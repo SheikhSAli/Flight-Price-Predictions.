{
 "cells": [
  {
   "cell_type": "markdown",
   "metadata": {},
   "source": [
    "# Flight Price Prediction"
   ]
  },
  {
   "cell_type": "markdown",
   "metadata": {},
   "source": [
    "**Problem Statement:**\n",
    "\n",
    "Flight ticket prices can be something hard to guess, today we might see as price, check out the price of the same flight tomorrow, it will be a different story. We might have often heard travellers saying that flight ticket prices are so unpredictable. Here we will be provided with prices of flight tickets for various airlines between the months of March and June of 2019 and between various cities.\n",
    "\n",
    "Size of training set: 10683 records\n",
    "\n",
    "Size of test set: 2671 records"
   ]
  },
  {
   "cell_type": "markdown",
   "metadata": {},
   "source": [
    "**FEATURES:**\n",
    "    \n",
    "**Airline:** The name of the airline.\n",
    "\n",
    "**Date_of_Journey:** The date of the journey\n",
    "\n",
    "**Source:** The source from which the service begins.\n",
    "\n",
    "**Destination:** The destination where the service ends.\n",
    "\n",
    "**Route:** The route taken by the flight to reach the destination.\n",
    "\n",
    "**Dep_Time:** The time when the journey starts from the source.\n",
    "\n",
    "**Arrival_Time:** Time of arrival at the destination.\n",
    "\n",
    "**Duration:** Total duration of the flight.\n",
    "\n",
    "**Total_Stops:** Total stops between the source and destination.\n",
    "\n",
    "**Additional_Info:** Additional information about the flight\n",
    "\n",
    "**Target Variable**\n",
    "\n",
    "**Price:** The price of the ticket"
   ]
  },
  {
   "cell_type": "markdown",
   "metadata": {},
   "source": [
    "We have to use our skills as a data scientist and build a machine learning model to predict the price of the flight ticket."
   ]
  },
  {
   "cell_type": "code",
   "execution_count": 118,
   "metadata": {},
   "outputs": [],
   "source": [
    "import numpy as np \n",
    "import pandas as pd \n",
    "import matplotlib.pyplot as plt \n",
    "%matplotlib inline\n",
    "plt.style.use(\"ggplot\")\n",
    "import seaborn as sns\n",
    "sns.set_style('whitegrid')\n",
    "from sklearn.preprocessing import LabelEncoder\n",
    "from scipy.stats import zscore \n",
    "from sklearn.preprocessing import PowerTransformer\n",
    "from sklearn.decomposition import PCA\n",
    "import seaborn as sns\n",
    "from sklearn import metrics\n",
    "from sklearn.model_selection import train_test_split ,  cross_val_score\n",
    "from sklearn.metrics import r2_score,mean_absolute_error,mean_squared_error\n",
    "from sklearn.linear_model import LinearRegression\n",
    "from sklearn.metrics import r2_score, mean_squared_error\n",
    "from sklearn.neighbors import KNeighborsRegressor\n",
    "from sklearn.ensemble import  RandomForestRegressor\n",
    "from sklearn.ensemble import  GradientBoostingRegressor\n",
    "from sklearn.ensemble import ExtraTreesRegressor\n",
    "from sklearn.ensemble import AdaBoostRegressor\n",
    "from sklearn.linear_model import Lasso\n",
    "from sklearn.linear_model import  Ridge\n",
    "from sklearn.linear_model import ElasticNet\n",
    "from sklearn.svm import SVR\n",
    "from sklearn.tree import DecisionTreeRegressor\n",
    "from sklearn.metrics import mean_squared_error\n",
    "from sklearn.metrics import mean_absolute_error\n",
    "from sklearn.metrics import r2_score\n",
    "from sklearn.model_selection import GridSearchCV\n",
    "from sklearn.preprocessing import StandardScaler \n",
    "\n",
    "import warnings\n",
    "warnings.filterwarnings('ignore')\n",
    "%matplotlib inline"
   ]
  },
  {
   "cell_type": "code",
   "execution_count": 119,
   "metadata": {},
   "outputs": [],
   "source": [
    "Fdf = pd.read_excel('Data_Train.xlsx')"
   ]
  },
  {
   "cell_type": "code",
   "execution_count": 120,
   "metadata": {},
   "outputs": [
    {
     "data": {
      "text/html": [
       "<div>\n",
       "<style scoped>\n",
       "    .dataframe tbody tr th:only-of-type {\n",
       "        vertical-align: middle;\n",
       "    }\n",
       "\n",
       "    .dataframe tbody tr th {\n",
       "        vertical-align: top;\n",
       "    }\n",
       "\n",
       "    .dataframe thead th {\n",
       "        text-align: right;\n",
       "    }\n",
       "</style>\n",
       "<table border=\"1\" class=\"dataframe\">\n",
       "  <thead>\n",
       "    <tr style=\"text-align: right;\">\n",
       "      <th></th>\n",
       "      <th>Airline</th>\n",
       "      <th>Date_of_Journey</th>\n",
       "      <th>Source</th>\n",
       "      <th>Destination</th>\n",
       "      <th>Route</th>\n",
       "      <th>Dep_Time</th>\n",
       "      <th>Arrival_Time</th>\n",
       "      <th>Duration</th>\n",
       "      <th>Total_Stops</th>\n",
       "      <th>Additional_Info</th>\n",
       "      <th>Price</th>\n",
       "    </tr>\n",
       "  </thead>\n",
       "  <tbody>\n",
       "    <tr>\n",
       "      <th>0</th>\n",
       "      <td>IndiGo</td>\n",
       "      <td>24/03/2019</td>\n",
       "      <td>Banglore</td>\n",
       "      <td>New Delhi</td>\n",
       "      <td>BLR → DEL</td>\n",
       "      <td>22:20</td>\n",
       "      <td>01:10 22 Mar</td>\n",
       "      <td>2h 50m</td>\n",
       "      <td>non-stop</td>\n",
       "      <td>No info</td>\n",
       "      <td>3897</td>\n",
       "    </tr>\n",
       "    <tr>\n",
       "      <th>1</th>\n",
       "      <td>Air India</td>\n",
       "      <td>1/05/2019</td>\n",
       "      <td>Kolkata</td>\n",
       "      <td>Banglore</td>\n",
       "      <td>CCU → IXR → BBI → BLR</td>\n",
       "      <td>05:50</td>\n",
       "      <td>13:15</td>\n",
       "      <td>7h 25m</td>\n",
       "      <td>2 stops</td>\n",
       "      <td>No info</td>\n",
       "      <td>7662</td>\n",
       "    </tr>\n",
       "    <tr>\n",
       "      <th>2</th>\n",
       "      <td>Jet Airways</td>\n",
       "      <td>9/06/2019</td>\n",
       "      <td>Delhi</td>\n",
       "      <td>Cochin</td>\n",
       "      <td>DEL → LKO → BOM → COK</td>\n",
       "      <td>09:25</td>\n",
       "      <td>04:25 10 Jun</td>\n",
       "      <td>19h</td>\n",
       "      <td>2 stops</td>\n",
       "      <td>No info</td>\n",
       "      <td>13882</td>\n",
       "    </tr>\n",
       "    <tr>\n",
       "      <th>3</th>\n",
       "      <td>IndiGo</td>\n",
       "      <td>12/05/2019</td>\n",
       "      <td>Kolkata</td>\n",
       "      <td>Banglore</td>\n",
       "      <td>CCU → NAG → BLR</td>\n",
       "      <td>18:05</td>\n",
       "      <td>23:30</td>\n",
       "      <td>5h 25m</td>\n",
       "      <td>1 stop</td>\n",
       "      <td>No info</td>\n",
       "      <td>6218</td>\n",
       "    </tr>\n",
       "    <tr>\n",
       "      <th>4</th>\n",
       "      <td>IndiGo</td>\n",
       "      <td>01/03/2019</td>\n",
       "      <td>Banglore</td>\n",
       "      <td>New Delhi</td>\n",
       "      <td>BLR → NAG → DEL</td>\n",
       "      <td>16:50</td>\n",
       "      <td>21:35</td>\n",
       "      <td>4h 45m</td>\n",
       "      <td>1 stop</td>\n",
       "      <td>No info</td>\n",
       "      <td>13302</td>\n",
       "    </tr>\n",
       "    <tr>\n",
       "      <th>...</th>\n",
       "      <td>...</td>\n",
       "      <td>...</td>\n",
       "      <td>...</td>\n",
       "      <td>...</td>\n",
       "      <td>...</td>\n",
       "      <td>...</td>\n",
       "      <td>...</td>\n",
       "      <td>...</td>\n",
       "      <td>...</td>\n",
       "      <td>...</td>\n",
       "      <td>...</td>\n",
       "    </tr>\n",
       "    <tr>\n",
       "      <th>10678</th>\n",
       "      <td>Air Asia</td>\n",
       "      <td>9/04/2019</td>\n",
       "      <td>Kolkata</td>\n",
       "      <td>Banglore</td>\n",
       "      <td>CCU → BLR</td>\n",
       "      <td>19:55</td>\n",
       "      <td>22:25</td>\n",
       "      <td>2h 30m</td>\n",
       "      <td>non-stop</td>\n",
       "      <td>No info</td>\n",
       "      <td>4107</td>\n",
       "    </tr>\n",
       "    <tr>\n",
       "      <th>10679</th>\n",
       "      <td>Air India</td>\n",
       "      <td>27/04/2019</td>\n",
       "      <td>Kolkata</td>\n",
       "      <td>Banglore</td>\n",
       "      <td>CCU → BLR</td>\n",
       "      <td>20:45</td>\n",
       "      <td>23:20</td>\n",
       "      <td>2h 35m</td>\n",
       "      <td>non-stop</td>\n",
       "      <td>No info</td>\n",
       "      <td>4145</td>\n",
       "    </tr>\n",
       "    <tr>\n",
       "      <th>10680</th>\n",
       "      <td>Jet Airways</td>\n",
       "      <td>27/04/2019</td>\n",
       "      <td>Banglore</td>\n",
       "      <td>Delhi</td>\n",
       "      <td>BLR → DEL</td>\n",
       "      <td>08:20</td>\n",
       "      <td>11:20</td>\n",
       "      <td>3h</td>\n",
       "      <td>non-stop</td>\n",
       "      <td>No info</td>\n",
       "      <td>7229</td>\n",
       "    </tr>\n",
       "    <tr>\n",
       "      <th>10681</th>\n",
       "      <td>Vistara</td>\n",
       "      <td>01/03/2019</td>\n",
       "      <td>Banglore</td>\n",
       "      <td>New Delhi</td>\n",
       "      <td>BLR → DEL</td>\n",
       "      <td>11:30</td>\n",
       "      <td>14:10</td>\n",
       "      <td>2h 40m</td>\n",
       "      <td>non-stop</td>\n",
       "      <td>No info</td>\n",
       "      <td>12648</td>\n",
       "    </tr>\n",
       "    <tr>\n",
       "      <th>10682</th>\n",
       "      <td>Air India</td>\n",
       "      <td>9/05/2019</td>\n",
       "      <td>Delhi</td>\n",
       "      <td>Cochin</td>\n",
       "      <td>DEL → GOI → BOM → COK</td>\n",
       "      <td>10:55</td>\n",
       "      <td>19:15</td>\n",
       "      <td>8h 20m</td>\n",
       "      <td>2 stops</td>\n",
       "      <td>No info</td>\n",
       "      <td>11753</td>\n",
       "    </tr>\n",
       "  </tbody>\n",
       "</table>\n",
       "<p>10683 rows × 11 columns</p>\n",
       "</div>"
      ],
      "text/plain": [
       "           Airline Date_of_Journey    Source Destination  \\\n",
       "0           IndiGo      24/03/2019  Banglore   New Delhi   \n",
       "1        Air India       1/05/2019   Kolkata    Banglore   \n",
       "2      Jet Airways       9/06/2019     Delhi      Cochin   \n",
       "3           IndiGo      12/05/2019   Kolkata    Banglore   \n",
       "4           IndiGo      01/03/2019  Banglore   New Delhi   \n",
       "...            ...             ...       ...         ...   \n",
       "10678     Air Asia       9/04/2019   Kolkata    Banglore   \n",
       "10679    Air India      27/04/2019   Kolkata    Banglore   \n",
       "10680  Jet Airways      27/04/2019  Banglore       Delhi   \n",
       "10681      Vistara      01/03/2019  Banglore   New Delhi   \n",
       "10682    Air India       9/05/2019     Delhi      Cochin   \n",
       "\n",
       "                       Route Dep_Time  Arrival_Time Duration Total_Stops  \\\n",
       "0                  BLR → DEL    22:20  01:10 22 Mar   2h 50m    non-stop   \n",
       "1      CCU → IXR → BBI → BLR    05:50         13:15   7h 25m     2 stops   \n",
       "2      DEL → LKO → BOM → COK    09:25  04:25 10 Jun      19h     2 stops   \n",
       "3            CCU → NAG → BLR    18:05         23:30   5h 25m      1 stop   \n",
       "4            BLR → NAG → DEL    16:50         21:35   4h 45m      1 stop   \n",
       "...                      ...      ...           ...      ...         ...   \n",
       "10678              CCU → BLR    19:55         22:25   2h 30m    non-stop   \n",
       "10679              CCU → BLR    20:45         23:20   2h 35m    non-stop   \n",
       "10680              BLR → DEL    08:20         11:20       3h    non-stop   \n",
       "10681              BLR → DEL    11:30         14:10   2h 40m    non-stop   \n",
       "10682  DEL → GOI → BOM → COK    10:55         19:15   8h 20m     2 stops   \n",
       "\n",
       "      Additional_Info  Price  \n",
       "0             No info   3897  \n",
       "1             No info   7662  \n",
       "2             No info  13882  \n",
       "3             No info   6218  \n",
       "4             No info  13302  \n",
       "...               ...    ...  \n",
       "10678         No info   4107  \n",
       "10679         No info   4145  \n",
       "10680         No info   7229  \n",
       "10681         No info  12648  \n",
       "10682         No info  11753  \n",
       "\n",
       "[10683 rows x 11 columns]"
      ]
     },
     "execution_count": 120,
     "metadata": {},
     "output_type": "execute_result"
    }
   ],
   "source": [
    "Fdf"
   ]
  },
  {
   "cell_type": "markdown",
   "metadata": {},
   "source": [
    "### Exploratpry Data Analysis (EDA)"
   ]
  },
  {
   "cell_type": "code",
   "execution_count": 121,
   "metadata": {},
   "outputs": [
    {
     "name": "stdout",
     "output_type": "stream",
     "text": [
      "<class 'pandas.core.frame.DataFrame'>\n",
      "RangeIndex: 10683 entries, 0 to 10682\n",
      "Data columns (total 11 columns):\n",
      " #   Column           Non-Null Count  Dtype \n",
      "---  ------           --------------  ----- \n",
      " 0   Airline          10683 non-null  object\n",
      " 1   Date_of_Journey  10683 non-null  object\n",
      " 2   Source           10683 non-null  object\n",
      " 3   Destination      10683 non-null  object\n",
      " 4   Route            10682 non-null  object\n",
      " 5   Dep_Time         10683 non-null  object\n",
      " 6   Arrival_Time     10683 non-null  object\n",
      " 7   Duration         10683 non-null  object\n",
      " 8   Total_Stops      10682 non-null  object\n",
      " 9   Additional_Info  10683 non-null  object\n",
      " 10  Price            10683 non-null  int64 \n",
      "dtypes: int64(1), object(10)\n",
      "memory usage: 918.2+ KB\n"
     ]
    }
   ],
   "source": [
    "Fdf.info()"
   ]
  },
  {
   "cell_type": "code",
   "execution_count": 122,
   "metadata": {},
   "outputs": [
    {
     "data": {
      "text/plain": [
       "Airline            0\n",
       "Date_of_Journey    0\n",
       "Source             0\n",
       "Destination        0\n",
       "Route              1\n",
       "Dep_Time           0\n",
       "Arrival_Time       0\n",
       "Duration           0\n",
       "Total_Stops        1\n",
       "Additional_Info    0\n",
       "Price              0\n",
       "dtype: int64"
      ]
     },
     "execution_count": 122,
     "metadata": {},
     "output_type": "execute_result"
    }
   ],
   "source": [
    "Fdf.isnull().sum()"
   ]
  },
  {
   "cell_type": "markdown",
   "metadata": {},
   "source": [
    "#### Airline"
   ]
  },
  {
   "cell_type": "code",
   "execution_count": 123,
   "metadata": {},
   "outputs": [
    {
     "data": {
      "text/plain": [
       "Jet Airways                          3849\n",
       "IndiGo                               2053\n",
       "Air India                            1752\n",
       "Multiple carriers                    1196\n",
       "SpiceJet                              818\n",
       "Vistara                               479\n",
       "Air Asia                              319\n",
       "GoAir                                 194\n",
       "Multiple carriers Premium economy      13\n",
       "Jet Airways Business                    6\n",
       "Vistara Premium economy                 3\n",
       "Trujet                                  1\n",
       "Name: Airline, dtype: int64"
      ]
     },
     "execution_count": 123,
     "metadata": {},
     "output_type": "execute_result"
    }
   ],
   "source": [
    "Fdf['Airline'].value_counts()"
   ]
  },
  {
   "cell_type": "markdown",
   "metadata": {},
   "source": [
    "#sns.swarmplot(x=\"Source\", y=\"Price\", data=Fdf)\n",
    "\n",
    "We can also use the code above to plot Price of a single Airline , But my system is not capable of plotting swarmplot of such big data so I'm using a simpler plot to plot this distribution. "
   ]
  },
  {
   "cell_type": "code",
   "execution_count": 124,
   "metadata": {},
   "outputs": [
    {
     "data": {
      "image/png": "[encoded data removed]",
      "text/plain": [
       "<Figure size 1008x576 with 1 Axes>"
      ]
     },
     "metadata": {
      "needs_background": "light"
     },
     "output_type": "display_data"
    }
   ],
   "source": [
    "plt.figure(figsize=(14,8))\n",
    "unique , inv = np.unique(Fdf[\"Airline\"], return_inverse=True) \n",
    "plt.scatter(inv, Fdf[\"Price\"] , c = 'lightseagreen')\n",
    "plt.xticks(range(len(unique)),unique , rotation = 90)\n",
    "plt.margins(x=0.5)\n",
    "plt.show()"
   ]
  },
  {
   "cell_type": "markdown",
   "metadata": {},
   "source": [
    "<!-- From above we can observe the distributions of destination of Airlines with respect to their ticket prices. -->"
   ]
  },
  {
   "cell_type": "markdown",
   "metadata": {},
   "source": [
    "Here we can observe the variations in ticket price of various Airlines."
   ]
  },
  {
   "cell_type": "markdown",
   "metadata": {},
   "source": [
    "#### Source"
   ]
  },
  {
   "cell_type": "code",
   "execution_count": 125,
   "metadata": {},
   "outputs": [
    {
     "data": {
      "text/plain": [
       "Delhi       4537\n",
       "Kolkata     2871\n",
       "Banglore    2197\n",
       "Mumbai       697\n",
       "Chennai      381\n",
       "Name: Source, dtype: int64"
      ]
     },
     "execution_count": 125,
     "metadata": {},
     "output_type": "execute_result"
    }
   ],
   "source": [
    "Fdf['Source'].value_counts()"
   ]
  },
  {
   "cell_type": "markdown",
   "metadata": {},
   "source": [
    "#sns.swarmplot(x=\"Source\", y=\"Price\", data=Fdf)\n",
    "\n",
    "We can also use the code above to plot Price of a single Airline , But my system is not capable of plotting swarmplot of such big data so I'm using a simpler plot to plot this distribution. "
   ]
  },
  {
   "cell_type": "code",
   "execution_count": 126,
   "metadata": {},
   "outputs": [
    {
     "data": {
      "image/png": "[encoded data removed]",
      "text/plain": [
       "<Figure size 1008x576 with 1 Axes>"
      ]
     },
     "metadata": {
      "needs_background": "light"
     },
     "output_type": "display_data"
    }
   ],
   "source": [
    "plt.figure(figsize=(14,8))\n",
    "unique , inv = np.unique(Fdf[\"Source\"], return_inverse=True) \n",
    "plt.scatter(inv, Fdf[\"Price\"] , c = 'lightseagreen')\n",
    "plt.xticks(range(len(unique)),unique , rotation = 90)\n",
    "plt.margins(x=0.5)\n",
    "plt.show()"
   ]
  },
  {
   "cell_type": "markdown",
   "metadata": {},
   "source": [
    "Here we can observe the variatioin in prices of the tickets of a particular source airport . "
   ]
  },
  {
   "cell_type": "markdown",
   "metadata": {},
   "source": [
    "#### Destination"
   ]
  },
  {
   "cell_type": "code",
   "execution_count": 127,
   "metadata": {},
   "outputs": [
    {
     "data": {
      "text/plain": [
       "Cochin       4537\n",
       "Banglore     2871\n",
       "Delhi        1265\n",
       "New Delhi     932\n",
       "Hyderabad     697\n",
       "Kolkata       381\n",
       "Name: Destination, dtype: int64"
      ]
     },
     "execution_count": 127,
     "metadata": {},
     "output_type": "execute_result"
    }
   ],
   "source": [
    "Fdf['Destination'].value_counts()"
   ]
  },
  {
   "cell_type": "markdown",
   "metadata": {},
   "source": [
    "#sns.swarmplot(x=\"Destination\", y=\"Price\", data=Fdf)\n",
    "\n",
    "We can also use the code above to plot Price of a single Airline , But my system is not capable of plotting swarmplot of such big data so I'm using a simpler plot to plot this distribution. "
   ]
  },
  {
   "cell_type": "code",
   "execution_count": 128,
   "metadata": {},
   "outputs": [
    {
     "data": {
      "image/png": "[encoded data removed]",
      "text/plain": [
       "<Figure size 1008x576 with 1 Axes>"
      ]
     },
     "metadata": {
      "needs_background": "light"
     },
     "output_type": "display_data"
    }
   ],
   "source": [
    "plt.figure(figsize=(14,8))\n",
    "unique , inv = np.unique(Fdf[\"Destination\"], return_inverse=True) \n",
    "plt.scatter(inv, Fdf[\"Price\"] , c = 'lightseagreen')\n",
    "plt.xticks(range(len(unique)),unique , rotation = 90)\n",
    "plt.margins(x=0.5)\n",
    "plt.show()"
   ]
  },
  {
   "cell_type": "markdown",
   "metadata": {},
   "source": [
    "Here we can observe the variatioin in prices of the tickets of a particular source airport . "
   ]
  },
  {
   "cell_type": "code",
   "execution_count": 129,
   "metadata": {},
   "outputs": [
    {
     "name": "stdout",
     "output_type": "stream",
     "text": [
      "<class 'pandas.core.frame.DataFrame'>\n",
      "RangeIndex: 10683 entries, 0 to 10682\n",
      "Data columns (total 11 columns):\n",
      " #   Column           Non-Null Count  Dtype \n",
      "---  ------           --------------  ----- \n",
      " 0   Airline          10683 non-null  object\n",
      " 1   Date_of_Journey  10683 non-null  object\n",
      " 2   Source           10683 non-null  object\n",
      " 3   Destination      10683 non-null  object\n",
      " 4   Route            10682 non-null  object\n",
      " 5   Dep_Time         10683 non-null  object\n",
      " 6   Arrival_Time     10683 non-null  object\n",
      " 7   Duration         10683 non-null  object\n",
      " 8   Total_Stops      10682 non-null  object\n",
      " 9   Additional_Info  10683 non-null  object\n",
      " 10  Price            10683 non-null  int64 \n",
      "dtypes: int64(1), object(10)\n",
      "memory usage: 918.2+ KB\n"
     ]
    }
   ],
   "source": [
    "Fdf.info()"
   ]
  },
  {
   "cell_type": "markdown",
   "metadata": {},
   "source": [
    "### Data Preprocessing"
   ]
  },
  {
   "cell_type": "code",
   "execution_count": 130,
   "metadata": {},
   "outputs": [
    {
     "name": "stdout",
     "output_type": "stream",
     "text": [
      "<class 'pandas.core.frame.DataFrame'>\n",
      "RangeIndex: 10683 entries, 0 to 10682\n",
      "Data columns (total 11 columns):\n",
      " #   Column           Non-Null Count  Dtype \n",
      "---  ------           --------------  ----- \n",
      " 0   Airline          10683 non-null  object\n",
      " 1   Date_of_Journey  10683 non-null  object\n",
      " 2   Source           10683 non-null  object\n",
      " 3   Destination      10683 non-null  object\n",
      " 4   Route            10682 non-null  object\n",
      " 5   Dep_Time         10683 non-null  object\n",
      " 6   Arrival_Time     10683 non-null  object\n",
      " 7   Duration         10683 non-null  object\n",
      " 8   Total_Stops      10682 non-null  object\n",
      " 9   Additional_Info  10683 non-null  object\n",
      " 10  Price            10683 non-null  int64 \n",
      "dtypes: int64(1), object(10)\n",
      "memory usage: 918.2+ KB\n"
     ]
    }
   ],
   "source": [
    "Fdf.info()"
   ]
  },
  {
   "cell_type": "markdown",
   "metadata": {},
   "source": [
    "#### AirLine"
   ]
  },
  {
   "cell_type": "code",
   "execution_count": 131,
   "metadata": {},
   "outputs": [
    {
     "data": {
      "text/plain": [
       "Jet Airways                          3849\n",
       "IndiGo                               2053\n",
       "Air India                            1752\n",
       "Multiple carriers                    1196\n",
       "SpiceJet                              818\n",
       "Vistara                               479\n",
       "Air Asia                              319\n",
       "GoAir                                 194\n",
       "Multiple carriers Premium economy      13\n",
       "Jet Airways Business                    6\n",
       "Vistara Premium economy                 3\n",
       "Trujet                                  1\n",
       "Name: Airline, dtype: int64"
      ]
     },
     "execution_count": 131,
     "metadata": {},
     "output_type": "execute_result"
    }
   ],
   "source": [
    "Fdf['Airline'].value_counts()"
   ]
  },
  {
   "cell_type": "code",
   "execution_count": 132,
   "metadata": {},
   "outputs": [],
   "source": [
    "Fdf['Airline'] = Fdf['Airline'].replace(['GoAir','Multiple carriers Premium economy' , 'Jet Airways Business' , \n",
    "                                         'Vistara Premium economy', 'Trujet'] , 'other' )"
   ]
  },
  {
   "cell_type": "code",
   "execution_count": 133,
   "metadata": {},
   "outputs": [
    {
     "data": {
      "text/plain": [
       "Jet Airways          3849\n",
       "IndiGo               2053\n",
       "Air India            1752\n",
       "Multiple carriers    1196\n",
       "SpiceJet              818\n",
       "Vistara               479\n",
       "Air Asia              319\n",
       "other                 217\n",
       "Name: Airline, dtype: int64"
      ]
     },
     "execution_count": 133,
     "metadata": {},
     "output_type": "execute_result"
    }
   ],
   "source": [
    "Fdf['Airline'].value_counts()"
   ]
  },
  {
   "cell_type": "code",
   "execution_count": 134,
   "metadata": {},
   "outputs": [],
   "source": [
    "le = LabelEncoder()\n",
    "Fdf['Airline'] = le.fit_transform(Fdf['Airline'])"
   ]
  },
  {
   "cell_type": "code",
   "execution_count": 135,
   "metadata": {},
   "outputs": [
    {
     "data": {
      "text/plain": [
       "3    3849\n",
       "2    2053\n",
       "1    1752\n",
       "4    1196\n",
       "5     818\n",
       "6     479\n",
       "0     319\n",
       "7     217\n",
       "Name: Airline, dtype: int64"
      ]
     },
     "execution_count": 135,
     "metadata": {},
     "output_type": "execute_result"
    }
   ],
   "source": [
    "Fdf['Airline'].value_counts()"
   ]
  },
  {
   "cell_type": "markdown",
   "metadata": {},
   "source": [
    "#### Date_of_Journey"
   ]
  },
  {
   "cell_type": "code",
   "execution_count": 136,
   "metadata": {},
   "outputs": [
    {
     "data": {
      "text/plain": [
       "18/05/2019    504\n",
       "6/06/2019     503\n",
       "21/05/2019    497\n",
       "9/06/2019     495\n",
       "12/06/2019    493\n",
       "9/05/2019     484\n",
       "21/03/2019    423\n",
       "15/05/2019    405\n",
       "27/05/2019    382\n",
       "27/06/2019    355\n",
       "24/06/2019    351\n",
       "1/06/2019     342\n",
       "3/06/2019     333\n",
       "15/06/2019    328\n",
       "24/03/2019    323\n",
       "6/03/2019     308\n",
       "27/03/2019    299\n",
       "24/05/2019    286\n",
       "6/05/2019     282\n",
       "1/05/2019     277\n",
       "12/05/2019    259\n",
       "1/04/2019     257\n",
       "3/03/2019     218\n",
       "9/03/2019     200\n",
       "15/03/2019    162\n",
       "18/03/2019    156\n",
       "01/03/2019    152\n",
       "12/03/2019    142\n",
       "9/04/2019     125\n",
       "3/04/2019     110\n",
       "21/06/2019    109\n",
       "18/06/2019    105\n",
       "09/03/2019    102\n",
       "6/04/2019     100\n",
       "03/03/2019     97\n",
       "06/03/2019     95\n",
       "27/04/2019     94\n",
       "24/04/2019     92\n",
       "3/05/2019      90\n",
       "15/04/2019     89\n",
       "21/04/2019     82\n",
       "18/04/2019     67\n",
       "12/04/2019     63\n",
       "1/03/2019      47\n",
       "Name: Date_of_Journey, dtype: int64"
      ]
     },
     "execution_count": 136,
     "metadata": {},
     "output_type": "execute_result"
    }
   ],
   "source": [
    "Fdf['Date_of_Journey'].value_counts()"
   ]
  },
  {
   "cell_type": "code",
   "execution_count": 137,
   "metadata": {},
   "outputs": [],
   "source": [
    "Fdf['Date_of_Journey'] = pd.to_datetime(Fdf['Date_of_Journey'])"
   ]
  },
  {
   "cell_type": "markdown",
   "metadata": {},
   "source": [
    "Creating new features as day and month."
   ]
  },
  {
   "cell_type": "code",
   "execution_count": 138,
   "metadata": {},
   "outputs": [],
   "source": [
    "Fdf['Day'] = Fdf['Date_of_Journey'].dt.day"
   ]
  },
  {
   "cell_type": "code",
   "execution_count": 139,
   "metadata": {},
   "outputs": [],
   "source": [
    "Fdf['Month'] = Fdf['Date_of_Journey'].dt.month"
   ]
  },
  {
   "cell_type": "code",
   "execution_count": 140,
   "metadata": {},
   "outputs": [
    {
     "name": "stdout",
     "output_type": "stream",
     "text": [
      "<class 'pandas.core.frame.DataFrame'>\n",
      "RangeIndex: 10683 entries, 0 to 10682\n",
      "Data columns (total 13 columns):\n",
      " #   Column           Non-Null Count  Dtype         \n",
      "---  ------           --------------  -----         \n",
      " 0   Airline          10683 non-null  int32         \n",
      " 1   Date_of_Journey  10683 non-null  datetime64[ns]\n",
      " 2   Source           10683 non-null  object        \n",
      " 3   Destination      10683 non-null  object        \n",
      " 4   Route            10682 non-null  object        \n",
      " 5   Dep_Time         10683 non-null  object        \n",
      " 6   Arrival_Time     10683 non-null  object        \n",
      " 7   Duration         10683 non-null  object        \n",
      " 8   Total_Stops      10682 non-null  object        \n",
      " 9   Additional_Info  10683 non-null  object        \n",
      " 10  Price            10683 non-null  int64         \n",
      " 11  Day              10683 non-null  int64         \n",
      " 12  Month            10683 non-null  int64         \n",
      "dtypes: datetime64[ns](1), int32(1), int64(3), object(8)\n",
      "memory usage: 1.0+ MB\n"
     ]
    }
   ],
   "source": [
    "Fdf.info()"
   ]
  },
  {
   "cell_type": "markdown",
   "metadata": {},
   "source": [
    "We will drop Date_of_journey later on in feature selection procedure."
   ]
  },
  {
   "cell_type": "markdown",
   "metadata": {},
   "source": [
    "#### Source"
   ]
  },
  {
   "cell_type": "code",
   "execution_count": 141,
   "metadata": {},
   "outputs": [
    {
     "data": {
      "text/plain": [
       "Delhi       4537\n",
       "Kolkata     2871\n",
       "Banglore    2197\n",
       "Mumbai       697\n",
       "Chennai      381\n",
       "Name: Source, dtype: int64"
      ]
     },
     "execution_count": 141,
     "metadata": {},
     "output_type": "execute_result"
    }
   ],
   "source": [
    "Fdf['Source'].value_counts()"
   ]
  },
  {
   "cell_type": "code",
   "execution_count": 142,
   "metadata": {},
   "outputs": [],
   "source": [
    "le = LabelEncoder()\n",
    "Fdf['Source'] = le.fit_transform(Fdf['Source'])"
   ]
  },
  {
   "cell_type": "code",
   "execution_count": 143,
   "metadata": {},
   "outputs": [
    {
     "data": {
      "text/plain": [
       "2    4537\n",
       "3    2871\n",
       "0    2197\n",
       "4     697\n",
       "1     381\n",
       "Name: Source, dtype: int64"
      ]
     },
     "execution_count": 143,
     "metadata": {},
     "output_type": "execute_result"
    }
   ],
   "source": [
    "Fdf['Source'].value_counts()"
   ]
  },
  {
   "cell_type": "markdown",
   "metadata": {},
   "source": [
    "#### Destination"
   ]
  },
  {
   "cell_type": "code",
   "execution_count": 144,
   "metadata": {},
   "outputs": [
    {
     "data": {
      "text/plain": [
       "Cochin       4537\n",
       "Banglore     2871\n",
       "Delhi        1265\n",
       "New Delhi     932\n",
       "Hyderabad     697\n",
       "Kolkata       381\n",
       "Name: Destination, dtype: int64"
      ]
     },
     "execution_count": 144,
     "metadata": {},
     "output_type": "execute_result"
    }
   ],
   "source": [
    "Fdf['Destination'].value_counts()"
   ]
  },
  {
   "cell_type": "code",
   "execution_count": 145,
   "metadata": {},
   "outputs": [],
   "source": [
    "le = LabelEncoder()\n",
    "Fdf['Destination'] = le.fit_transform(Fdf['Destination'])"
   ]
  },
  {
   "cell_type": "code",
   "execution_count": 146,
   "metadata": {},
   "outputs": [
    {
     "data": {
      "text/plain": [
       "1    4537\n",
       "0    2871\n",
       "2    1265\n",
       "5     932\n",
       "3     697\n",
       "4     381\n",
       "Name: Destination, dtype: int64"
      ]
     },
     "execution_count": 146,
     "metadata": {},
     "output_type": "execute_result"
    }
   ],
   "source": [
    "Fdf['Destination'].value_counts()"
   ]
  },
  {
   "cell_type": "markdown",
   "metadata": {},
   "source": [
    "#### Route"
   ]
  },
  {
   "cell_type": "code",
   "execution_count": 147,
   "metadata": {},
   "outputs": [
    {
     "data": {
      "text/plain": [
       "DEL → BOM → COK                2376\n",
       "BLR → DEL                      1552\n",
       "CCU → BOM → BLR                 979\n",
       "CCU → BLR                       724\n",
       "BOM → HYD                       621\n",
       "                               ... \n",
       "BLR → BOM → IXC → DEL             1\n",
       "BOM → UDR → DEL → HYD             1\n",
       "BLR → HBX → BOM → AMD → DEL       1\n",
       "BOM → RPR → VTZ → HYD             1\n",
       "BOM → JDH → JAI → DEL → HYD       1\n",
       "Name: Route, Length: 128, dtype: int64"
      ]
     },
     "execution_count": 147,
     "metadata": {},
     "output_type": "execute_result"
    }
   ],
   "source": [
    "Fdf['Route'].value_counts()"
   ]
  },
  {
   "cell_type": "code",
   "execution_count": 148,
   "metadata": {},
   "outputs": [
    {
     "data": {
      "text/plain": [
       "1"
      ]
     },
     "execution_count": 148,
     "metadata": {},
     "output_type": "execute_result"
    }
   ],
   "source": [
    "Fdf['Route'].isnull().sum()"
   ]
  },
  {
   "cell_type": "code",
   "execution_count": 149,
   "metadata": {},
   "outputs": [
    {
     "data": {
      "text/plain": [
       "array(['BLR → DEL', 'CCU → IXR → BBI → BLR', 'DEL → LKO → BOM → COK',\n",
       "       'CCU → NAG → BLR', 'BLR → NAG → DEL', 'CCU → BLR',\n",
       "       'BLR → BOM → DEL', 'DEL → BOM → COK', 'DEL → BLR → COK',\n",
       "       'MAA → CCU', 'CCU → BOM → BLR', 'DEL → AMD → BOM → COK',\n",
       "       'DEL → PNQ → COK', 'DEL → CCU → BOM → COK', 'BLR → COK → DEL',\n",
       "       'DEL → IDR → BOM → COK', 'DEL → LKO → COK',\n",
       "       'CCU → GAU → DEL → BLR', 'DEL → NAG → BOM → COK',\n",
       "       'CCU → MAA → BLR', 'DEL → HYD → COK', 'CCU → HYD → BLR',\n",
       "       'DEL → COK', 'CCU → DEL → BLR', 'BLR → BOM → AMD → DEL',\n",
       "       'BOM → DEL → HYD', 'DEL → MAA → COK', 'BOM → HYD',\n",
       "       'DEL → BHO → BOM → COK', 'DEL → JAI → BOM → COK',\n",
       "       'DEL → ATQ → BOM → COK', 'DEL → JDH → BOM → COK',\n",
       "       'CCU → BBI → BOM → BLR', 'BLR → MAA → DEL',\n",
       "       'DEL → GOI → BOM → COK', 'DEL → BDQ → BOM → COK',\n",
       "       'CCU → JAI → BOM → BLR', 'CCU → BBI → BLR', 'BLR → HYD → DEL',\n",
       "       'DEL → TRV → COK', 'CCU → IXR → DEL → BLR',\n",
       "       'DEL → IXU → BOM → COK', 'CCU → IXB → BLR',\n",
       "       'BLR → BOM → JDH → DEL', 'DEL → UDR → BOM → COK',\n",
       "       'DEL → HYD → MAA → COK', 'CCU → BOM → COK → BLR',\n",
       "       'BLR → CCU → DEL', 'CCU → BOM → GOI → BLR',\n",
       "       'DEL → RPR → NAG → BOM → COK', 'DEL → HYD → BOM → COK',\n",
       "       'CCU → DEL → AMD → BLR', 'CCU → PNQ → BLR',\n",
       "       'BLR → CCU → GAU → DEL', 'CCU → DEL → COK → BLR',\n",
       "       'BLR → PNQ → DEL', 'BOM → JDH → DEL → HYD',\n",
       "       'BLR → BOM → BHO → DEL', 'DEL → AMD → COK', 'BLR → LKO → DEL',\n",
       "       'CCU → GAU → BLR', 'BOM → GOI → HYD', 'CCU → BOM → AMD → BLR',\n",
       "       'CCU → BBI → IXR → DEL → BLR', 'DEL → DED → BOM → COK',\n",
       "       'DEL → MAA → BOM → COK', 'BLR → AMD → DEL', 'BLR → VGA → DEL',\n",
       "       'CCU → JAI → DEL → BLR', 'CCU → AMD → BLR',\n",
       "       'CCU → VNS → DEL → BLR', 'BLR → BOM → IDR → DEL',\n",
       "       'BLR → BBI → DEL', 'BLR → GOI → DEL', 'BOM → AMD → ISK → HYD',\n",
       "       'BOM → DED → DEL → HYD', 'DEL → IXC → BOM → COK',\n",
       "       'CCU → PAT → BLR', 'BLR → CCU → BBI → DEL',\n",
       "       'CCU → BBI → HYD → BLR', 'BLR → BOM → NAG → DEL',\n",
       "       'BLR → CCU → BBI → HYD → DEL', 'BLR → GAU → DEL',\n",
       "       'BOM → BHO → DEL → HYD', 'BOM → JLR → HYD',\n",
       "       'BLR → HYD → VGA → DEL', 'CCU → KNU → BLR',\n",
       "       'CCU → BOM → PNQ → BLR', 'DEL → BBI → COK',\n",
       "       'BLR → VGA → HYD → DEL', 'BOM → JDH → JAI → DEL → HYD',\n",
       "       'DEL → GWL → IDR → BOM → COK', 'CCU → RPR → HYD → BLR',\n",
       "       'CCU → VTZ → BLR', 'CCU → DEL → VGA → BLR',\n",
       "       'BLR → BOM → IDR → GWL → DEL', 'CCU → DEL → COK → TRV → BLR',\n",
       "       'BOM → COK → MAA → HYD', 'BOM → NDC → HYD', 'BLR → BDQ → DEL',\n",
       "       'CCU → BOM → TRV → BLR', 'CCU → BOM → HBX → BLR',\n",
       "       'BOM → BDQ → DEL → HYD', 'BOM → CCU → HYD',\n",
       "       'BLR → TRV → COK → DEL', 'BLR → IDR → DEL',\n",
       "       'CCU → IXZ → MAA → BLR', 'CCU → GAU → IMF → DEL → BLR',\n",
       "       'BOM → GOI → PNQ → HYD', 'BOM → BLR → CCU → BBI → HYD',\n",
       "       'BOM → MAA → HYD', 'BLR → BOM → UDR → DEL',\n",
       "       'BOM → UDR → DEL → HYD', 'BLR → VGA → VTZ → DEL',\n",
       "       'BLR → HBX → BOM → BHO → DEL', 'CCU → IXA → BLR',\n",
       "       'BOM → RPR → VTZ → HYD', 'BLR → HBX → BOM → AMD → DEL',\n",
       "       'BOM → IDR → DEL → HYD', 'BOM → BLR → HYD', 'BLR → STV → DEL',\n",
       "       'CCU → IXB → DEL → BLR', 'BOM → JAI → DEL → HYD',\n",
       "       'BOM → VNS → DEL → HYD', 'BLR → HBX → BOM → NAG → DEL', nan,\n",
       "       'BLR → BOM → IXC → DEL', 'BLR → CCU → BBI → HYD → VGA → DEL',\n",
       "       'BOM → BBI → HYD'], dtype=object)"
      ]
     },
     "execution_count": 149,
     "metadata": {},
     "output_type": "execute_result"
    }
   ],
   "source": [
    "Fdf['Route'].unique()"
   ]
  },
  {
   "cell_type": "markdown",
   "metadata": {},
   "source": [
    "In here we can find that there are 5 different routes So we'll just split them and create new features with different routes ."
   ]
  },
  {
   "cell_type": "code",
   "execution_count": 150,
   "metadata": {},
   "outputs": [],
   "source": [
    "Fdf['Route1']=Fdf['Route'].str.split('→ ').str[0]\n",
    "Fdf['Route2']=Fdf['Route'].str.split('→ ').str[1]\n",
    "Fdf['Route3']=Fdf['Route'].str.split('→ ').str[2]\n",
    "Fdf['Route4']=Fdf['Route'].str.split('→ ').str[3]\n",
    "Fdf['Route5']=Fdf['Route'].str.split('→ ').str[4]"
   ]
  },
  {
   "cell_type": "markdown",
   "metadata": {},
   "source": [
    "Here we are filling the null values with none ."
   ]
  },
  {
   "cell_type": "code",
   "execution_count": 151,
   "metadata": {},
   "outputs": [],
   "source": [
    "Fdf['Route1'].fillna(\"None\",inplace=True)\n",
    "Fdf['Route2'].fillna(\"None\",inplace=True)\n",
    "Fdf['Route3'].fillna(\"None\",inplace=True)\n",
    "Fdf['Route4'].fillna(\"None\",inplace=True)\n",
    "Fdf['Route5'].fillna(\"None\",inplace=True)"
   ]
  },
  {
   "cell_type": "code",
   "execution_count": 152,
   "metadata": {},
   "outputs": [],
   "source": [
    "le = LabelEncoder()\n",
    "Fdf['Route1'] = le.fit_transform(Fdf['Route1'])\n",
    "Fdf['Route2'] = le.fit_transform(Fdf['Route2'])\n",
    "Fdf['Route3'] = le.fit_transform(Fdf['Route3'])\n",
    "Fdf['Route4'] = le.fit_transform(Fdf['Route4'])\n",
    "Fdf['Route5'] = le.fit_transform(Fdf['Route5'])"
   ]
  },
  {
   "cell_type": "code",
   "execution_count": 153,
   "metadata": {},
   "outputs": [
    {
     "name": "stdout",
     "output_type": "stream",
     "text": [
      "<class 'pandas.core.frame.DataFrame'>\n",
      "RangeIndex: 10683 entries, 0 to 10682\n",
      "Data columns (total 18 columns):\n",
      " #   Column           Non-Null Count  Dtype         \n",
      "---  ------           --------------  -----         \n",
      " 0   Airline          10683 non-null  int32         \n",
      " 1   Date_of_Journey  10683 non-null  datetime64[ns]\n",
      " 2   Source           10683 non-null  int32         \n",
      " 3   Destination      10683 non-null  int32         \n",
      " 4   Route            10682 non-null  object        \n",
      " 5   Dep_Time         10683 non-null  object        \n",
      " 6   Arrival_Time     10683 non-null  object        \n",
      " 7   Duration         10683 non-null  object        \n",
      " 8   Total_Stops      10682 non-null  object        \n",
      " 9   Additional_Info  10683 non-null  object        \n",
      " 10  Price            10683 non-null  int64         \n",
      " 11  Day              10683 non-null  int64         \n",
      " 12  Month            10683 non-null  int64         \n",
      " 13  Route1           10683 non-null  int32         \n",
      " 14  Route2           10683 non-null  int32         \n",
      " 15  Route3           10683 non-null  int32         \n",
      " 16  Route4           10683 non-null  int32         \n",
      " 17  Route5           10683 non-null  int32         \n",
      "dtypes: datetime64[ns](1), int32(8), int64(3), object(6)\n",
      "memory usage: 1.1+ MB\n"
     ]
    }
   ],
   "source": [
    "Fdf.info()"
   ]
  },
  {
   "cell_type": "markdown",
   "metadata": {},
   "source": [
    "#### Dep_Time "
   ]
  },
  {
   "cell_type": "code",
   "execution_count": 154,
   "metadata": {},
   "outputs": [
    {
     "data": {
      "text/plain": [
       "18:55    233\n",
       "17:00    227\n",
       "07:05    205\n",
       "10:00    203\n",
       "07:10    202\n",
       "        ... \n",
       "21:40      1\n",
       "04:15      1\n",
       "21:35      1\n",
       "16:25      1\n",
       "04:50      1\n",
       "Name: Dep_Time, Length: 222, dtype: int64"
      ]
     },
     "execution_count": 154,
     "metadata": {},
     "output_type": "execute_result"
    }
   ],
   "source": [
    "Fdf['Dep_Time'].value_counts()"
   ]
  },
  {
   "cell_type": "code",
   "execution_count": 155,
   "metadata": {},
   "outputs": [],
   "source": [
    "Fdf['Dep_Time'] = pd.to_datetime(Fdf['Dep_Time'])"
   ]
  },
  {
   "cell_type": "markdown",
   "metadata": {},
   "source": [
    "Extracting hour from our Dep_TIme feature ."
   ]
  },
  {
   "cell_type": "code",
   "execution_count": 156,
   "metadata": {},
   "outputs": [],
   "source": [
    "Fdf['Dep_time'] = Fdf['Dep_Time'].dt.hour"
   ]
  },
  {
   "cell_type": "code",
   "execution_count": 157,
   "metadata": {},
   "outputs": [
    {
     "data": {
      "text/plain": [
       "9     916\n",
       "7     867\n",
       "8     697\n",
       "17    695\n",
       "6     687\n",
       "20    651\n",
       "5     629\n",
       "11    580\n",
       "19    567\n",
       "10    536\n",
       "14    523\n",
       "21    492\n",
       "16    472\n",
       "18    444\n",
       "13    417\n",
       "22    387\n",
       "15    319\n",
       "2     194\n",
       "12    178\n",
       "4     170\n",
       "23    161\n",
       "0      40\n",
       "1      37\n",
       "3      24\n",
       "Name: Dep_time, dtype: int64"
      ]
     },
     "execution_count": 157,
     "metadata": {},
     "output_type": "execute_result"
    }
   ],
   "source": [
    "Fdf['Dep_time'].value_counts()"
   ]
  },
  {
   "cell_type": "markdown",
   "metadata": {},
   "source": [
    "#### Arrival_Time"
   ]
  },
  {
   "cell_type": "code",
   "execution_count": 158,
   "metadata": {},
   "outputs": [
    {
     "data": {
      "text/plain": [
       "19:00           423\n",
       "21:00           360\n",
       "19:15           333\n",
       "16:10           154\n",
       "12:35           122\n",
       "               ... \n",
       "02:20 04 May      1\n",
       "08:15 22 Apr      1\n",
       "02:15 07 May      1\n",
       "02:15 07 Jun      1\n",
       "10:50 16 Mar      1\n",
       "Name: Arrival_Time, Length: 1343, dtype: int64"
      ]
     },
     "execution_count": 158,
     "metadata": {},
     "output_type": "execute_result"
    }
   ],
   "source": [
    "Fdf['Arrival_Time'].value_counts()"
   ]
  },
  {
   "cell_type": "code",
   "execution_count": 159,
   "metadata": {},
   "outputs": [],
   "source": [
    "Fdf['Arrival_Time'] = pd.to_datetime(Fdf['Arrival_Time'])"
   ]
  },
  {
   "cell_type": "code",
   "execution_count": 160,
   "metadata": {},
   "outputs": [],
   "source": [
    "Fdf['Arrival_time'] = Fdf['Arrival_Time'].dt.hour"
   ]
  },
  {
   "cell_type": "code",
   "execution_count": 161,
   "metadata": {},
   "outputs": [
    {
     "data": {
      "text/plain": [
       "19    1626\n",
       "12     897\n",
       "4      838\n",
       "21     703\n",
       "22     647\n",
       "1      529\n",
       "18     514\n",
       "9      490\n",
       "23     485\n",
       "10     476\n",
       "8      471\n",
       "7      417\n",
       "20     377\n",
       "16     370\n",
       "0      322\n",
       "13     308\n",
       "11     298\n",
       "14     295\n",
       "17     191\n",
       "15     182\n",
       "2       79\n",
       "5       69\n",
       "6       52\n",
       "3       47\n",
       "Name: Arrival_time, dtype: int64"
      ]
     },
     "execution_count": 161,
     "metadata": {},
     "output_type": "execute_result"
    }
   ],
   "source": [
    "Fdf['Arrival_time'].value_counts()"
   ]
  },
  {
   "cell_type": "markdown",
   "metadata": {},
   "source": [
    "#### Duration"
   ]
  },
  {
   "cell_type": "code",
   "execution_count": 162,
   "metadata": {},
   "outputs": [
    {
     "data": {
      "text/plain": [
       "2h 50m     550\n",
       "1h 30m     386\n",
       "2h 45m     337\n",
       "2h 55m     337\n",
       "2h 35m     329\n",
       "          ... \n",
       "4h 10m       1\n",
       "33h 20m      1\n",
       "42h 5m       1\n",
       "35h 20m      1\n",
       "5m           1\n",
       "Name: Duration, Length: 368, dtype: int64"
      ]
     },
     "execution_count": 162,
     "metadata": {},
     "output_type": "execute_result"
    }
   ],
   "source": [
    "Fdf['Duration'].value_counts()"
   ]
  },
  {
   "cell_type": "markdown",
   "metadata": {},
   "source": [
    "#### Total_Stops"
   ]
  },
  {
   "cell_type": "code",
   "execution_count": 163,
   "metadata": {},
   "outputs": [
    {
     "data": {
      "text/plain": [
       "1 stop      5625\n",
       "non-stop    3491\n",
       "2 stops     1520\n",
       "3 stops       45\n",
       "4 stops        1\n",
       "Name: Total_Stops, dtype: int64"
      ]
     },
     "execution_count": 163,
     "metadata": {},
     "output_type": "execute_result"
    }
   ],
   "source": [
    "Fdf['Total_Stops'].value_counts()"
   ]
  },
  {
   "cell_type": "code",
   "execution_count": 164,
   "metadata": {},
   "outputs": [
    {
     "data": {
      "text/plain": [
       "1"
      ]
     },
     "execution_count": 164,
     "metadata": {},
     "output_type": "execute_result"
    }
   ],
   "source": [
    "Fdf['Total_Stops'].isnull().sum()"
   ]
  },
  {
   "cell_type": "code",
   "execution_count": 165,
   "metadata": {},
   "outputs": [],
   "source": [
    "Fdf['Total_Stops'] = Fdf['Total_Stops'].fillna('1 stop')"
   ]
  },
  {
   "cell_type": "code",
   "execution_count": 166,
   "metadata": {},
   "outputs": [],
   "source": [
    "Fdf['Total_Stops'].replace('non-stop' , '0 stop' ,inplace = True )"
   ]
  },
  {
   "cell_type": "code",
   "execution_count": 167,
   "metadata": {},
   "outputs": [
    {
     "data": {
      "text/plain": [
       "1 stop     5626\n",
       "0 stop     3491\n",
       "2 stops    1520\n",
       "3 stops      45\n",
       "4 stops       1\n",
       "Name: Total_Stops, dtype: int64"
      ]
     },
     "execution_count": 167,
     "metadata": {},
     "output_type": "execute_result"
    }
   ],
   "source": [
    "Fdf['Total_Stops'].value_counts()"
   ]
  },
  {
   "cell_type": "code",
   "execution_count": 168,
   "metadata": {},
   "outputs": [],
   "source": [
    "le = LabelEncoder()\n",
    "Fdf['Total_Stops'] = le.fit_transform(Fdf['Total_Stops'])"
   ]
  },
  {
   "cell_type": "code",
   "execution_count": 169,
   "metadata": {},
   "outputs": [
    {
     "data": {
      "text/plain": [
       "1    5626\n",
       "0    3491\n",
       "2    1520\n",
       "3      45\n",
       "4       1\n",
       "Name: Total_Stops, dtype: int64"
      ]
     },
     "execution_count": 169,
     "metadata": {},
     "output_type": "execute_result"
    }
   ],
   "source": [
    "Fdf['Total_Stops'].value_counts()"
   ]
  },
  {
   "cell_type": "markdown",
   "metadata": {},
   "source": [
    "#### Additional_Info"
   ]
  },
  {
   "cell_type": "code",
   "execution_count": 170,
   "metadata": {},
   "outputs": [
    {
     "data": {
      "text/plain": [
       "No info                         8345\n",
       "In-flight meal not included     1982\n",
       "No check-in baggage included     320\n",
       "1 Long layover                    19\n",
       "Change airports                    7\n",
       "Business class                     4\n",
       "No Info                            3\n",
       "Red-eye flight                     1\n",
       "1 Short layover                    1\n",
       "2 Long layover                     1\n",
       "Name: Additional_Info, dtype: int64"
      ]
     },
     "execution_count": 170,
     "metadata": {},
     "output_type": "execute_result"
    }
   ],
   "source": [
    "Fdf['Additional_Info'].value_counts()"
   ]
  },
  {
   "cell_type": "markdown",
   "metadata": {},
   "source": [
    "Here out of 10682 values 8345 values are having No info. So we'll drop this feature in feature selection procedure ."
   ]
  },
  {
   "cell_type": "markdown",
   "metadata": {},
   "source": [
    "#### Price"
   ]
  },
  {
   "cell_type": "code",
   "execution_count": 171,
   "metadata": {},
   "outputs": [
    {
     "data": {
      "text/plain": [
       "10262    258\n",
       "10844    212\n",
       "7229     162\n",
       "4804     160\n",
       "4823     131\n",
       "        ... \n",
       "9502       1\n",
       "13875      1\n",
       "7742       1\n",
       "5703       1\n",
       "4098       1\n",
       "Name: Price, Length: 1870, dtype: int64"
      ]
     },
     "execution_count": 171,
     "metadata": {},
     "output_type": "execute_result"
    }
   ],
   "source": [
    "Fdf['Price'].value_counts()"
   ]
  },
  {
   "cell_type": "markdown",
   "metadata": {},
   "source": [
    "### Feature Selection "
   ]
  },
  {
   "cell_type": "code",
   "execution_count": 172,
   "metadata": {},
   "outputs": [
    {
     "name": "stdout",
     "output_type": "stream",
     "text": [
      "<class 'pandas.core.frame.DataFrame'>\n",
      "RangeIndex: 10683 entries, 0 to 10682\n",
      "Data columns (total 20 columns):\n",
      " #   Column           Non-Null Count  Dtype         \n",
      "---  ------           --------------  -----         \n",
      " 0   Airline          10683 non-null  int32         \n",
      " 1   Date_of_Journey  10683 non-null  datetime64[ns]\n",
      " 2   Source           10683 non-null  int32         \n",
      " 3   Destination      10683 non-null  int32         \n",
      " 4   Route            10682 non-null  object        \n",
      " 5   Dep_Time         10683 non-null  datetime64[ns]\n",
      " 6   Arrival_Time     10683 non-null  datetime64[ns]\n",
      " 7   Duration         10683 non-null  object        \n",
      " 8   Total_Stops      10683 non-null  int32         \n",
      " 9   Additional_Info  10683 non-null  object        \n",
      " 10  Price            10683 non-null  int64         \n",
      " 11  Day              10683 non-null  int64         \n",
      " 12  Month            10683 non-null  int64         \n",
      " 13  Route1           10683 non-null  int32         \n",
      " 14  Route2           10683 non-null  int32         \n",
      " 15  Route3           10683 non-null  int32         \n",
      " 16  Route4           10683 non-null  int32         \n",
      " 17  Route5           10683 non-null  int32         \n",
      " 18  Dep_time         10683 non-null  int64         \n",
      " 19  Arrival_time     10683 non-null  int64         \n",
      "dtypes: datetime64[ns](3), int32(9), int64(5), object(3)\n",
      "memory usage: 1.3+ MB\n"
     ]
    }
   ],
   "source": [
    "Fdf.info()"
   ]
  },
  {
   "cell_type": "markdown",
   "metadata": {},
   "source": [
    "We have successfully dealt with Date_of_Journey , Route , Duration ,Dep_Time , Arrival_Time and Additional_Info , So now we'll drop these features."
   ]
  },
  {
   "cell_type": "code",
   "execution_count": 173,
   "metadata": {},
   "outputs": [],
   "source": [
    "Fdf = Fdf.drop(['Date_of_Journey' , 'Route' , 'Duration' ,'Dep_Time' , 'Arrival_Time', 'Additional_Info' ] , axis = 1)"
   ]
  },
  {
   "cell_type": "code",
   "execution_count": 174,
   "metadata": {},
   "outputs": [
    {
     "name": "stdout",
     "output_type": "stream",
     "text": [
      "<class 'pandas.core.frame.DataFrame'>\n",
      "RangeIndex: 10683 entries, 0 to 10682\n",
      "Data columns (total 14 columns):\n",
      " #   Column        Non-Null Count  Dtype\n",
      "---  ------        --------------  -----\n",
      " 0   Airline       10683 non-null  int32\n",
      " 1   Source        10683 non-null  int32\n",
      " 2   Destination   10683 non-null  int32\n",
      " 3   Total_Stops   10683 non-null  int32\n",
      " 4   Price         10683 non-null  int64\n",
      " 5   Day           10683 non-null  int64\n",
      " 6   Month         10683 non-null  int64\n",
      " 7   Route1        10683 non-null  int32\n",
      " 8   Route2        10683 non-null  int32\n",
      " 9   Route3        10683 non-null  int32\n",
      " 10  Route4        10683 non-null  int32\n",
      " 11  Route5        10683 non-null  int32\n",
      " 12  Dep_time      10683 non-null  int64\n",
      " 13  Arrival_time  10683 non-null  int64\n",
      "dtypes: int32(9), int64(5)\n",
      "memory usage: 793.0 KB\n"
     ]
    }
   ],
   "source": [
    "Fdf.info()"
   ]
  },
  {
   "cell_type": "markdown",
   "metadata": {},
   "source": [
    "### Visualising & Removing Outliers "
   ]
  },
  {
   "cell_type": "code",
   "execution_count": 176,
   "metadata": {},
   "outputs": [
    {
     "data": {
      "image/png": "[encoded data removed]",
      "text/plain": [
       "<Figure size 1152x864 with 14 Axes>"
      ]
     },
     "metadata": {
      "needs_background": "light"
     },
     "output_type": "display_data"
    }
   ],
   "source": [
    "collist=Fdf.columns.values\n",
    "ncol=5\n",
    "nrows=7\n",
    "plt.figure(figsize=(16,12))\n",
    "for i in range (0,len(collist)):\n",
    "    plt.subplot(nrows,ncol,i+1)\n",
    "    sns.boxplot(Fdf[collist[i]],color='lightseagreen')\n",
    "    plt.tight_layout()"
   ]
  },
  {
   "cell_type": "markdown",
   "metadata": {},
   "source": [
    "From above we can observe that there are Outliers in our dataset , so we need to deal with them.<br>\n",
    "\n",
    "Finding **ZScore**\n",
    "\n",
    "A  **Z-score** is a numerical measurement that describes a value's relationship to the mean of a group of values. Z-score is measured in terms of standard deviations from the mean. If a Z-score is 0, it indicates that the data point's score is identical to the mean score. A Z-score of 1.0 would indicate a value that is one standard deviation from the mean."
   ]
  },
  {
   "cell_type": "markdown",
   "metadata": {},
   "source": [
    "From above we can observe that there are outliers in this dataset , so we'll remove them"
   ]
  },
  {
   "cell_type": "code",
   "execution_count": 177,
   "metadata": {},
   "outputs": [],
   "source": [
    "Z_score = np.abs(zscore(Fdf))"
   ]
  },
  {
   "cell_type": "code",
   "execution_count": 178,
   "metadata": {},
   "outputs": [
    {
     "data": {
      "text/plain": [
       "(10683, 14)"
      ]
     },
     "execution_count": 178,
     "metadata": {},
     "output_type": "execute_result"
    }
   ],
   "source": [
    "Fdf.shape"
   ]
  },
  {
   "cell_type": "code",
   "execution_count": 179,
   "metadata": {},
   "outputs": [],
   "source": [
    "Fdf_wo = Fdf[(Z_score<3).all(axis= 1)]"
   ]
  },
  {
   "cell_type": "code",
   "execution_count": 180,
   "metadata": {},
   "outputs": [
    {
     "data": {
      "text/plain": [
       "(10109, 14)"
      ]
     },
     "execution_count": 180,
     "metadata": {},
     "output_type": "execute_result"
    }
   ],
   "source": [
    "Fdf_wo.shape"
   ]
  },
  {
   "cell_type": "markdown",
   "metadata": {},
   "source": [
    "We have successfully removed the outliers from our dataset"
   ]
  },
  {
   "cell_type": "markdown",
   "metadata": {},
   "source": [
    "#### Preictor & Target variable"
   ]
  },
  {
   "cell_type": "code",
   "execution_count": 181,
   "metadata": {},
   "outputs": [
    {
     "data": {
      "text/html": [
       "<div>\n",
       "<style scoped>\n",
       "    .dataframe tbody tr th:only-of-type {\n",
       "        vertical-align: middle;\n",
       "    }\n",
       "\n",
       "    .dataframe tbody tr th {\n",
       "        vertical-align: top;\n",
       "    }\n",
       "\n",
       "    .dataframe thead th {\n",
       "        text-align: right;\n",
       "    }\n",
       "</style>\n",
       "<table border=\"1\" class=\"dataframe\">\n",
       "  <thead>\n",
       "    <tr style=\"text-align: right;\">\n",
       "      <th></th>\n",
       "      <th>Airline</th>\n",
       "      <th>Source</th>\n",
       "      <th>Destination</th>\n",
       "      <th>Total_Stops</th>\n",
       "      <th>Day</th>\n",
       "      <th>Month</th>\n",
       "      <th>Route1</th>\n",
       "      <th>Route2</th>\n",
       "      <th>Route3</th>\n",
       "      <th>Route4</th>\n",
       "      <th>Route5</th>\n",
       "      <th>Dep_time</th>\n",
       "      <th>Arrival_time</th>\n",
       "    </tr>\n",
       "  </thead>\n",
       "  <tbody>\n",
       "    <tr>\n",
       "      <th>0</th>\n",
       "      <td>2</td>\n",
       "      <td>0</td>\n",
       "      <td>5</td>\n",
       "      <td>0</td>\n",
       "      <td>24</td>\n",
       "      <td>3</td>\n",
       "      <td>0</td>\n",
       "      <td>13</td>\n",
       "      <td>24</td>\n",
       "      <td>12</td>\n",
       "      <td>4</td>\n",
       "      <td>22</td>\n",
       "      <td>1</td>\n",
       "    </tr>\n",
       "    <tr>\n",
       "      <th>2</th>\n",
       "      <td>3</td>\n",
       "      <td>2</td>\n",
       "      <td>1</td>\n",
       "      <td>2</td>\n",
       "      <td>6</td>\n",
       "      <td>9</td>\n",
       "      <td>3</td>\n",
       "      <td>32</td>\n",
       "      <td>4</td>\n",
       "      <td>5</td>\n",
       "      <td>4</td>\n",
       "      <td>9</td>\n",
       "      <td>4</td>\n",
       "    </tr>\n",
       "    <tr>\n",
       "      <th>3</th>\n",
       "      <td>2</td>\n",
       "      <td>3</td>\n",
       "      <td>0</td>\n",
       "      <td>1</td>\n",
       "      <td>5</td>\n",
       "      <td>12</td>\n",
       "      <td>2</td>\n",
       "      <td>34</td>\n",
       "      <td>3</td>\n",
       "      <td>12</td>\n",
       "      <td>4</td>\n",
       "      <td>18</td>\n",
       "      <td>23</td>\n",
       "    </tr>\n",
       "    <tr>\n",
       "      <th>4</th>\n",
       "      <td>2</td>\n",
       "      <td>0</td>\n",
       "      <td>5</td>\n",
       "      <td>1</td>\n",
       "      <td>3</td>\n",
       "      <td>1</td>\n",
       "      <td>0</td>\n",
       "      <td>34</td>\n",
       "      <td>8</td>\n",
       "      <td>12</td>\n",
       "      <td>4</td>\n",
       "      <td>16</td>\n",
       "      <td>21</td>\n",
       "    </tr>\n",
       "    <tr>\n",
       "      <th>5</th>\n",
       "      <td>5</td>\n",
       "      <td>3</td>\n",
       "      <td>0</td>\n",
       "      <td>0</td>\n",
       "      <td>24</td>\n",
       "      <td>6</td>\n",
       "      <td>2</td>\n",
       "      <td>5</td>\n",
       "      <td>24</td>\n",
       "      <td>12</td>\n",
       "      <td>4</td>\n",
       "      <td>9</td>\n",
       "      <td>11</td>\n",
       "    </tr>\n",
       "    <tr>\n",
       "      <th>...</th>\n",
       "      <td>...</td>\n",
       "      <td>...</td>\n",
       "      <td>...</td>\n",
       "      <td>...</td>\n",
       "      <td>...</td>\n",
       "      <td>...</td>\n",
       "      <td>...</td>\n",
       "      <td>...</td>\n",
       "      <td>...</td>\n",
       "      <td>...</td>\n",
       "      <td>...</td>\n",
       "      <td>...</td>\n",
       "      <td>...</td>\n",
       "    </tr>\n",
       "    <tr>\n",
       "      <th>10678</th>\n",
       "      <td>0</td>\n",
       "      <td>3</td>\n",
       "      <td>0</td>\n",
       "      <td>0</td>\n",
       "      <td>4</td>\n",
       "      <td>9</td>\n",
       "      <td>2</td>\n",
       "      <td>5</td>\n",
       "      <td>24</td>\n",
       "      <td>12</td>\n",
       "      <td>4</td>\n",
       "      <td>19</td>\n",
       "      <td>22</td>\n",
       "    </tr>\n",
       "    <tr>\n",
       "      <th>10679</th>\n",
       "      <td>1</td>\n",
       "      <td>3</td>\n",
       "      <td>0</td>\n",
       "      <td>0</td>\n",
       "      <td>27</td>\n",
       "      <td>4</td>\n",
       "      <td>2</td>\n",
       "      <td>5</td>\n",
       "      <td>24</td>\n",
       "      <td>12</td>\n",
       "      <td>4</td>\n",
       "      <td>20</td>\n",
       "      <td>23</td>\n",
       "    </tr>\n",
       "    <tr>\n",
       "      <th>10680</th>\n",
       "      <td>3</td>\n",
       "      <td>0</td>\n",
       "      <td>2</td>\n",
       "      <td>0</td>\n",
       "      <td>27</td>\n",
       "      <td>4</td>\n",
       "      <td>0</td>\n",
       "      <td>13</td>\n",
       "      <td>24</td>\n",
       "      <td>12</td>\n",
       "      <td>4</td>\n",
       "      <td>8</td>\n",
       "      <td>11</td>\n",
       "    </tr>\n",
       "    <tr>\n",
       "      <th>10681</th>\n",
       "      <td>6</td>\n",
       "      <td>0</td>\n",
       "      <td>5</td>\n",
       "      <td>0</td>\n",
       "      <td>3</td>\n",
       "      <td>1</td>\n",
       "      <td>0</td>\n",
       "      <td>13</td>\n",
       "      <td>24</td>\n",
       "      <td>12</td>\n",
       "      <td>4</td>\n",
       "      <td>11</td>\n",
       "      <td>14</td>\n",
       "    </tr>\n",
       "    <tr>\n",
       "      <th>10682</th>\n",
       "      <td>1</td>\n",
       "      <td>2</td>\n",
       "      <td>1</td>\n",
       "      <td>2</td>\n",
       "      <td>5</td>\n",
       "      <td>9</td>\n",
       "      <td>3</td>\n",
       "      <td>16</td>\n",
       "      <td>4</td>\n",
       "      <td>5</td>\n",
       "      <td>4</td>\n",
       "      <td>10</td>\n",
       "      <td>19</td>\n",
       "    </tr>\n",
       "  </tbody>\n",
       "</table>\n",
       "<p>10109 rows × 13 columns</p>\n",
       "</div>"
      ],
      "text/plain": [
       "       Airline  Source  Destination  Total_Stops  Day  Month  Route1  Route2  \\\n",
       "0            2       0            5            0   24      3       0      13   \n",
       "2            3       2            1            2    6      9       3      32   \n",
       "3            2       3            0            1    5     12       2      34   \n",
       "4            2       0            5            1    3      1       0      34   \n",
       "5            5       3            0            0   24      6       2       5   \n",
       "...        ...     ...          ...          ...  ...    ...     ...     ...   \n",
       "10678        0       3            0            0    4      9       2       5   \n",
       "10679        1       3            0            0   27      4       2       5   \n",
       "10680        3       0            2            0   27      4       0      13   \n",
       "10681        6       0            5            0    3      1       0      13   \n",
       "10682        1       2            1            2    5      9       3      16   \n",
       "\n",
       "       Route3  Route4  Route5  Dep_time  Arrival_time  \n",
       "0          24      12       4        22             1  \n",
       "2           4       5       4         9             4  \n",
       "3           3      12       4        18            23  \n",
       "4           8      12       4        16            21  \n",
       "5          24      12       4         9            11  \n",
       "...       ...     ...     ...       ...           ...  \n",
       "10678      24      12       4        19            22  \n",
       "10679      24      12       4        20            23  \n",
       "10680      24      12       4         8            11  \n",
       "10681      24      12       4        11            14  \n",
       "10682       4       5       4        10            19  \n",
       "\n",
       "[10109 rows x 13 columns]"
      ]
     },
     "execution_count": 181,
     "metadata": {},
     "output_type": "execute_result"
    }
   ],
   "source": [
    "x_predictor = Fdf_wo.drop('Price' , axis = 1)\n",
    "x_predictor"
   ]
  },
  {
   "cell_type": "code",
   "execution_count": 182,
   "metadata": {},
   "outputs": [
    {
     "data": {
      "text/plain": [
       "0         3897\n",
       "2        13882\n",
       "3         6218\n",
       "4        13302\n",
       "5         3873\n",
       "         ...  \n",
       "10678     4107\n",
       "10679     4145\n",
       "10680     7229\n",
       "10681    12648\n",
       "10682    11753\n",
       "Name: Price, Length: 10109, dtype: int64"
      ]
     },
     "execution_count": 182,
     "metadata": {},
     "output_type": "execute_result"
    }
   ],
   "source": [
    "y = Fdf_wo['Price']\n",
    "y"
   ]
  },
  {
   "cell_type": "markdown",
   "metadata": {},
   "source": [
    "#### Checking for Skewness and removing Skewness"
   ]
  },
  {
   "cell_type": "code",
   "execution_count": 183,
   "metadata": {},
   "outputs": [
    {
     "data": {
      "text/plain": [
       "Airline         0.514203\n",
       "Source         -0.385028\n",
       "Destination     1.238600\n",
       "Total_Stops     0.244051\n",
       "Day             0.345121\n",
       "Month           0.643017\n",
       "Route1         -0.619386\n",
       "Route2          1.312574\n",
       "Route3          0.530215\n",
       "Route4         -2.424171\n",
       "Route5          0.000000\n",
       "Dep_time        0.073771\n",
       "Arrival_time   -0.393655\n",
       "dtype: float64"
      ]
     },
     "execution_count": 183,
     "metadata": {},
     "output_type": "execute_result"
    }
   ],
   "source": [
    "x_predictor.skew()"
   ]
  },
  {
   "cell_type": "code",
   "execution_count": 184,
   "metadata": {},
   "outputs": [
    {
     "data": {
      "image/png": "[encoded data removed]",
      "text/plain": [
       "<Figure size 432x288 with 1 Axes>"
      ]
     },
     "metadata": {
      "needs_background": "light"
     },
     "output_type": "display_data"
    },
    {
     "data": {
      "image/png": "[encoded data removed]",
      "text/plain": [
       "<Figure size 432x288 with 1 Axes>"
      ]
     },
     "metadata": {
      "needs_background": "light"
     },
     "output_type": "display_data"
    },
    {
     "data": {
      "image/png": "[encoded data removed]",
      "text/plain": [
       "<Figure size 432x288 with 1 Axes>"
      ]
     },
     "metadata": {
      "needs_background": "light"
     },
     "output_type": "display_data"
    },
    {
     "data": {
      "image/png": "[encoded data removed]",
      "text/plain": [
       "<Figure size 432x288 with 1 Axes>"
      ]
     },
     "metadata": {
      "needs_background": "light"
     },
     "output_type": "display_data"
    },
    {
     "data": {
      "image/png": "[encoded data removed]",
      "text/plain": [
       "<Figure size 432x288 with 1 Axes>"
      ]
     },
     "metadata": {
      "needs_background": "light"
     },
     "output_type": "display_data"
    },
    {
     "data": {
      "image/png": "[encoded data removed]",
      "text/plain": [
       "<Figure size 432x288 with 1 Axes>"
      ]
     },
     "metadata": {
      "needs_background": "light"
     },
     "output_type": "display_data"
    },
    {
     "data": {
      "image/png": "[encoded data removed]",
      "text/plain": [
       "<Figure size 432x288 with 1 Axes>"
      ]
     },
     "metadata": {
      "needs_background": "light"
     },
     "output_type": "display_data"
    },
    {
     "data": {
      "image/png": "[encoded data removed]",
      "text/plain": [
       "<Figure size 432x288 with 1 Axes>"
      ]
     },
     "metadata": {
      "needs_background": "light"
     },
     "output_type": "display_data"
    },
    {
     "data": {
      "image/png": "[encoded data removed]",
      "text/plain": [
       "<Figure size 432x288 with 1 Axes>"
      ]
     },
     "metadata": {
      "needs_background": "light"
     },
     "output_type": "display_data"
    },
    {
     "data": {
      "image/png": "[encoded data removed]",
      "text/plain": [
       "<Figure size 432x288 with 1 Axes>"
      ]
     },
     "metadata": {
      "needs_background": "light"
     },
     "output_type": "display_data"
    },
    {
     "data": {
      "image/png": "[encoded data removed]",
      "text/plain": [
       "<Figure size 432x288 with 1 Axes>"
      ]
     },
     "metadata": {
      "needs_background": "light"
     },
     "output_type": "display_data"
    },
    {
     "data": {
      "image/png": "[encoded data removed]",
      "text/plain": [
       "<Figure size 432x288 with 1 Axes>"
      ]
     },
     "metadata": {
      "needs_background": "light"
     },
     "output_type": "display_data"
    },
    {
     "data": {
      "image/png": "[encoded data removed]",
      "text/plain": [
       "<Figure size 432x288 with 1 Axes>"
      ]
     },
     "metadata": {
      "needs_background": "light"
     },
     "output_type": "display_data"
    }
   ],
   "source": [
    "for feature in x_predictor :\n",
    "    sns.distplot(x_predictor[feature] , kde = True ,color ='lightseagreen' )\n",
    "    plt.xlabel(feature)\n",
    "    plt.ylabel(\"count\")\n",
    "    plt.title(feature)\n",
    "    plt.show()"
   ]
  },
  {
   "cell_type": "markdown",
   "metadata": {},
   "source": [
    "The rule of thumb seems to be: If the skewness is between -0.5 and 0.5, the data are fairly symmetrical. If the skewness is between -1 and – 0.5 or between 0.5 and 1, the data are moderately skewed. If the skewness is less than -1 or greater than 1, the data are highly skewed."
   ]
  },
  {
   "cell_type": "markdown",
   "metadata": {},
   "source": [
    "Here we can observe that there is skewness in our dataset . \n",
    "\n",
    "So we will use **PowerTransformer** for transforming/removing skewness from our dataset ."
   ]
  },
  {
   "cell_type": "code",
   "execution_count": 185,
   "metadata": {},
   "outputs": [],
   "source": [
    "powert = PowerTransformer( method = 'yeo-johnson' , standardize = False)\n",
    "x_t = powert.fit_transform(x_predictor)"
   ]
  },
  {
   "cell_type": "code",
   "execution_count": 186,
   "metadata": {},
   "outputs": [
    {
     "data": {
      "text/plain": [
       "array([[ 1.53385079e+00,  0.00000000e+00,  1.48938756e+00, ...,\n",
       "         9.97825786e+02,  1.16483641e+01,  1.01351178e+00],\n",
       "       [ 2.12383640e+00,  2.28177509e+00,  6.44388085e-01, ...,\n",
       "         9.97825786e+02,  5.81773070e+00,  4.14333366e+00],\n",
       "       [ 1.53385079e+00,  3.56663244e+00, -0.00000000e+00, ...,\n",
       "         9.97825786e+02,  9.99145773e+00,  2.49319654e+01],\n",
       "       ...,\n",
       "       [ 2.12383640e+00,  0.00000000e+00,  9.79493900e-01, ...,\n",
       "         9.97825786e+02,  5.29670736e+00,  1.16751511e+01],\n",
       "       [ 3.59410466e+00,  0.00000000e+00,  1.48938756e+00, ...,\n",
       "         9.97825786e+02,  6.81679458e+00,  1.49583295e+01],\n",
       "       [ 8.52292929e-01,  2.28177509e+00,  6.44388085e-01, ...,\n",
       "         9.97825786e+02,  6.32384993e+00,  2.04795158e+01]])"
      ]
     },
     "execution_count": 186,
     "metadata": {},
     "output_type": "execute_result"
    }
   ],
   "source": [
    "x_t"
   ]
  },
  {
   "cell_type": "code",
   "execution_count": 187,
   "metadata": {},
   "outputs": [
    {
     "data": {
      "text/html": [
       "<div>\n",
       "<style scoped>\n",
       "    .dataframe tbody tr th:only-of-type {\n",
       "        vertical-align: middle;\n",
       "    }\n",
       "\n",
       "    .dataframe tbody tr th {\n",
       "        vertical-align: top;\n",
       "    }\n",
       "\n",
       "    .dataframe thead th {\n",
       "        text-align: right;\n",
       "    }\n",
       "</style>\n",
       "<table border=\"1\" class=\"dataframe\">\n",
       "  <thead>\n",
       "    <tr style=\"text-align: right;\">\n",
       "      <th></th>\n",
       "      <th>Airline</th>\n",
       "      <th>Source</th>\n",
       "      <th>Destination</th>\n",
       "      <th>Total_Stops</th>\n",
       "      <th>Day</th>\n",
       "      <th>Month</th>\n",
       "      <th>Route1</th>\n",
       "      <th>Route2</th>\n",
       "      <th>Route3</th>\n",
       "      <th>Route4</th>\n",
       "      <th>Route5</th>\n",
       "      <th>Dep_time</th>\n",
       "      <th>Arrival_time</th>\n",
       "    </tr>\n",
       "  </thead>\n",
       "  <tbody>\n",
       "    <tr>\n",
       "      <th>0</th>\n",
       "      <td>1.533851</td>\n",
       "      <td>0.000000</td>\n",
       "      <td>1.489388</td>\n",
       "      <td>0.000000</td>\n",
       "      <td>3.145752</td>\n",
       "      <td>1.849677</td>\n",
       "      <td>0.000000</td>\n",
       "      <td>4.106631</td>\n",
       "      <td>1.992386</td>\n",
       "      <td>3.995257e+11</td>\n",
       "      <td>997.825786</td>\n",
       "      <td>11.648364</td>\n",
       "      <td>1.013512</td>\n",
       "    </tr>\n",
       "    <tr>\n",
       "      <th>1</th>\n",
       "      <td>2.123836</td>\n",
       "      <td>2.281775</td>\n",
       "      <td>0.644388</td>\n",
       "      <td>1.420567</td>\n",
       "      <td>1.919025</td>\n",
       "      <td>3.768733</td>\n",
       "      <td>4.500371</td>\n",
       "      <td>6.357404</td>\n",
       "      <td>1.251973</td>\n",
       "      <td>6.111639e+07</td>\n",
       "      <td>997.825786</td>\n",
       "      <td>5.817731</td>\n",
       "      <td>4.143334</td>\n",
       "    </tr>\n",
       "    <tr>\n",
       "      <th>2</th>\n",
       "      <td>1.533851</td>\n",
       "      <td>3.566632</td>\n",
       "      <td>-0.000000</td>\n",
       "      <td>0.813252</td>\n",
       "      <td>1.768948</td>\n",
       "      <td>4.459879</td>\n",
       "      <td>2.721717</td>\n",
       "      <td>6.535188</td>\n",
       "      <td>1.115083</td>\n",
       "      <td>3.995257e+11</td>\n",
       "      <td>997.825786</td>\n",
       "      <td>9.991458</td>\n",
       "      <td>24.931965</td>\n",
       "    </tr>\n",
       "    <tr>\n",
       "      <th>3</th>\n",
       "      <td>1.533851</td>\n",
       "      <td>0.000000</td>\n",
       "      <td>1.489388</td>\n",
       "      <td>0.813252</td>\n",
       "      <td>1.372613</td>\n",
       "      <td>0.798134</td>\n",
       "      <td>0.000000</td>\n",
       "      <td>6.535188</td>\n",
       "      <td>1.568280</td>\n",
       "      <td>3.995257e+11</td>\n",
       "      <td>997.825786</td>\n",
       "      <td>9.125497</td>\n",
       "      <td>22.702226</td>\n",
       "    </tr>\n",
       "    <tr>\n",
       "      <th>4</th>\n",
       "      <td>3.140659</td>\n",
       "      <td>3.566632</td>\n",
       "      <td>-0.000000</td>\n",
       "      <td>0.000000</td>\n",
       "      <td>3.145752</td>\n",
       "      <td>2.937677</td>\n",
       "      <td>2.721717</td>\n",
       "      <td>2.404318</td>\n",
       "      <td>1.992386</td>\n",
       "      <td>3.995257e+11</td>\n",
       "      <td>997.825786</td>\n",
       "      <td>5.817731</td>\n",
       "      <td>11.675151</td>\n",
       "    </tr>\n",
       "    <tr>\n",
       "      <th>...</th>\n",
       "      <td>...</td>\n",
       "      <td>...</td>\n",
       "      <td>...</td>\n",
       "      <td>...</td>\n",
       "      <td>...</td>\n",
       "      <td>...</td>\n",
       "      <td>...</td>\n",
       "      <td>...</td>\n",
       "      <td>...</td>\n",
       "      <td>...</td>\n",
       "      <td>...</td>\n",
       "      <td>...</td>\n",
       "      <td>...</td>\n",
       "    </tr>\n",
       "    <tr>\n",
       "      <th>10104</th>\n",
       "      <td>0.000000</td>\n",
       "      <td>3.566632</td>\n",
       "      <td>-0.000000</td>\n",
       "      <td>0.000000</td>\n",
       "      <td>1.591017</td>\n",
       "      <td>3.768733</td>\n",
       "      <td>2.721717</td>\n",
       "      <td>2.404318</td>\n",
       "      <td>1.992386</td>\n",
       "      <td>3.995257e+11</td>\n",
       "      <td>997.825786</td>\n",
       "      <td>10.414450</td>\n",
       "      <td>23.816255</td>\n",
       "    </tr>\n",
       "    <tr>\n",
       "      <th>10105</th>\n",
       "      <td>0.852293</td>\n",
       "      <td>3.566632</td>\n",
       "      <td>-0.000000</td>\n",
       "      <td>0.000000</td>\n",
       "      <td>3.253884</td>\n",
       "      <td>2.254723</td>\n",
       "      <td>2.721717</td>\n",
       "      <td>2.404318</td>\n",
       "      <td>1.992386</td>\n",
       "      <td>3.995257e+11</td>\n",
       "      <td>997.825786</td>\n",
       "      <td>10.831358</td>\n",
       "      <td>24.931965</td>\n",
       "    </tr>\n",
       "    <tr>\n",
       "      <th>10106</th>\n",
       "      <td>2.123836</td>\n",
       "      <td>0.000000</td>\n",
       "      <td>0.979494</td>\n",
       "      <td>0.000000</td>\n",
       "      <td>3.253884</td>\n",
       "      <td>2.254723</td>\n",
       "      <td>0.000000</td>\n",
       "      <td>4.106631</td>\n",
       "      <td>1.992386</td>\n",
       "      <td>3.995257e+11</td>\n",
       "      <td>997.825786</td>\n",
       "      <td>5.296707</td>\n",
       "      <td>11.675151</td>\n",
       "    </tr>\n",
       "    <tr>\n",
       "      <th>10107</th>\n",
       "      <td>3.594105</td>\n",
       "      <td>0.000000</td>\n",
       "      <td>1.489388</td>\n",
       "      <td>0.000000</td>\n",
       "      <td>1.372613</td>\n",
       "      <td>0.798134</td>\n",
       "      <td>0.000000</td>\n",
       "      <td>4.106631</td>\n",
       "      <td>1.992386</td>\n",
       "      <td>3.995257e+11</td>\n",
       "      <td>997.825786</td>\n",
       "      <td>6.816795</td>\n",
       "      <td>14.958329</td>\n",
       "    </tr>\n",
       "    <tr>\n",
       "      <th>10108</th>\n",
       "      <td>0.852293</td>\n",
       "      <td>2.281775</td>\n",
       "      <td>0.644388</td>\n",
       "      <td>1.420567</td>\n",
       "      <td>1.768948</td>\n",
       "      <td>3.768733</td>\n",
       "      <td>4.500371</td>\n",
       "      <td>4.564630</td>\n",
       "      <td>1.251973</td>\n",
       "      <td>6.111639e+07</td>\n",
       "      <td>997.825786</td>\n",
       "      <td>6.323850</td>\n",
       "      <td>20.479516</td>\n",
       "    </tr>\n",
       "  </tbody>\n",
       "</table>\n",
       "<p>10109 rows × 13 columns</p>\n",
       "</div>"
      ],
      "text/plain": [
       "        Airline    Source  Destination  Total_Stops       Day     Month  \\\n",
       "0      1.533851  0.000000     1.489388     0.000000  3.145752  1.849677   \n",
       "1      2.123836  2.281775     0.644388     1.420567  1.919025  3.768733   \n",
       "2      1.533851  3.566632    -0.000000     0.813252  1.768948  4.459879   \n",
       "3      1.533851  0.000000     1.489388     0.813252  1.372613  0.798134   \n",
       "4      3.140659  3.566632    -0.000000     0.000000  3.145752  2.937677   \n",
       "...         ...       ...          ...          ...       ...       ...   \n",
       "10104  0.000000  3.566632    -0.000000     0.000000  1.591017  3.768733   \n",
       "10105  0.852293  3.566632    -0.000000     0.000000  3.253884  2.254723   \n",
       "10106  2.123836  0.000000     0.979494     0.000000  3.253884  2.254723   \n",
       "10107  3.594105  0.000000     1.489388     0.000000  1.372613  0.798134   \n",
       "10108  0.852293  2.281775     0.644388     1.420567  1.768948  3.768733   \n",
       "\n",
       "         Route1    Route2    Route3        Route4      Route5   Dep_time  \\\n",
       "0      0.000000  4.106631  1.992386  3.995257e+11  997.825786  11.648364   \n",
       "1      4.500371  6.357404  1.251973  6.111639e+07  997.825786   5.817731   \n",
       "2      2.721717  6.535188  1.115083  3.995257e+11  997.825786   9.991458   \n",
       "3      0.000000  6.535188  1.568280  3.995257e+11  997.825786   9.125497   \n",
       "4      2.721717  2.404318  1.992386  3.995257e+11  997.825786   5.817731   \n",
       "...         ...       ...       ...           ...         ...        ...   \n",
       "10104  2.721717  2.404318  1.992386  3.995257e+11  997.825786  10.414450   \n",
       "10105  2.721717  2.404318  1.992386  3.995257e+11  997.825786  10.831358   \n",
       "10106  0.000000  4.106631  1.992386  3.995257e+11  997.825786   5.296707   \n",
       "10107  0.000000  4.106631  1.992386  3.995257e+11  997.825786   6.816795   \n",
       "10108  4.500371  4.564630  1.251973  6.111639e+07  997.825786   6.323850   \n",
       "\n",
       "       Arrival_time  \n",
       "0          1.013512  \n",
       "1          4.143334  \n",
       "2         24.931965  \n",
       "3         22.702226  \n",
       "4         11.675151  \n",
       "...             ...  \n",
       "10104     23.816255  \n",
       "10105     24.931965  \n",
       "10106     11.675151  \n",
       "10107     14.958329  \n",
       "10108     20.479516  \n",
       "\n",
       "[10109 rows x 13 columns]"
      ]
     },
     "execution_count": 187,
     "metadata": {},
     "output_type": "execute_result"
    }
   ],
   "source": [
    "x_trans = pd.DataFrame(x_t , columns = x_predictor.columns)\n",
    "x_trans"
   ]
  },
  {
   "cell_type": "markdown",
   "metadata": {},
   "source": [
    "#### Scaling"
   ]
  },
  {
   "cell_type": "markdown",
   "metadata": {},
   "source": [
    "Gaussian's distribution with zero mean and unit variance is standard scaling."
   ]
  },
  {
   "cell_type": "code",
   "execution_count": 188,
   "metadata": {},
   "outputs": [
    {
     "data": {
      "text/plain": [
       "array([[-0.576776  , -1.59435438,  1.7835716 , ...,  0.        ,\n",
       "         1.5311508 , -1.79372337],\n",
       "       [ 0.12596966,  0.01200724, -0.03215138, ...,  0.        ,\n",
       "        -0.56823375, -1.37433441],\n",
       "       [-0.576776  ,  0.9165423 , -1.41680343, ...,  0.        ,\n",
       "         0.9345632 ,  1.41129464],\n",
       "       ...,\n",
       "       [ 0.12596966, -1.59435438,  0.68791928, ...,  0.        ,\n",
       "        -0.75583401, -0.36508811],\n",
       "       [ 1.87724058, -1.59435438,  1.7835716 , ...,  0.        ,\n",
       "        -0.20850966,  0.07485027],\n",
       "       [-1.3885955 ,  0.01200724, -0.03215138, ...,  0.        ,\n",
       "        -0.38599988,  0.81467659]])"
      ]
     },
     "execution_count": 188,
     "metadata": {},
     "output_type": "execute_result"
    }
   ],
   "source": [
    "from sklearn.preprocessing import StandardScaler\n",
    "scaler = StandardScaler()\n",
    "x_s = scaler.fit_transform(x_trans)\n",
    "x_s"
   ]
  },
  {
   "cell_type": "code",
   "execution_count": 189,
   "metadata": {},
   "outputs": [
    {
     "data": {
      "text/html": [
       "<div>\n",
       "<style scoped>\n",
       "    .dataframe tbody tr th:only-of-type {\n",
       "        vertical-align: middle;\n",
       "    }\n",
       "\n",
       "    .dataframe tbody tr th {\n",
       "        vertical-align: top;\n",
       "    }\n",
       "\n",
       "    .dataframe thead th {\n",
       "        text-align: right;\n",
       "    }\n",
       "</style>\n",
       "<table border=\"1\" class=\"dataframe\">\n",
       "  <thead>\n",
       "    <tr style=\"text-align: right;\">\n",
       "      <th></th>\n",
       "      <th>Airline</th>\n",
       "      <th>Source</th>\n",
       "      <th>Destination</th>\n",
       "      <th>Total_Stops</th>\n",
       "      <th>Day</th>\n",
       "      <th>Month</th>\n",
       "      <th>Route1</th>\n",
       "      <th>Route2</th>\n",
       "      <th>Route3</th>\n",
       "      <th>Route4</th>\n",
       "      <th>Route5</th>\n",
       "      <th>Dep_time</th>\n",
       "      <th>Arrival_time</th>\n",
       "    </tr>\n",
       "  </thead>\n",
       "  <tbody>\n",
       "    <tr>\n",
       "      <th>0</th>\n",
       "      <td>-0.576776</td>\n",
       "      <td>-1.594354</td>\n",
       "      <td>1.783572</td>\n",
       "      <td>-1.266310</td>\n",
       "      <td>1.168226</td>\n",
       "      <td>-0.841553</td>\n",
       "      <td>-1.578734</td>\n",
       "      <td>0.405947</td>\n",
       "      <td>1.238508</td>\n",
       "      <td>0.362297</td>\n",
       "      <td>0.0</td>\n",
       "      <td>1.531151</td>\n",
       "      <td>-1.793723</td>\n",
       "    </tr>\n",
       "    <tr>\n",
       "      <th>1</th>\n",
       "      <td>0.125970</td>\n",
       "      <td>0.012007</td>\n",
       "      <td>-0.032151</td>\n",
       "      <td>1.716319</td>\n",
       "      <td>-0.625276</td>\n",
       "      <td>1.141812</td>\n",
       "      <td>0.809441</td>\n",
       "      <td>2.204547</td>\n",
       "      <td>-0.918221</td>\n",
       "      <td>-2.763228</td>\n",
       "      <td>0.0</td>\n",
       "      <td>-0.568234</td>\n",
       "      <td>-1.374334</td>\n",
       "    </tr>\n",
       "    <tr>\n",
       "      <th>2</th>\n",
       "      <td>-0.576776</td>\n",
       "      <td>0.916542</td>\n",
       "      <td>-1.416803</td>\n",
       "      <td>0.441198</td>\n",
       "      <td>-0.844691</td>\n",
       "      <td>1.856118</td>\n",
       "      <td>-0.134423</td>\n",
       "      <td>2.346616</td>\n",
       "      <td>-1.316966</td>\n",
       "      <td>0.362297</td>\n",
       "      <td>0.0</td>\n",
       "      <td>0.934563</td>\n",
       "      <td>1.411295</td>\n",
       "    </tr>\n",
       "    <tr>\n",
       "      <th>3</th>\n",
       "      <td>-0.576776</td>\n",
       "      <td>-1.594354</td>\n",
       "      <td>1.783572</td>\n",
       "      <td>0.441198</td>\n",
       "      <td>-1.424142</td>\n",
       "      <td>-1.928332</td>\n",
       "      <td>-1.578734</td>\n",
       "      <td>2.346616</td>\n",
       "      <td>0.003140</td>\n",
       "      <td>0.362297</td>\n",
       "      <td>0.0</td>\n",
       "      <td>0.622765</td>\n",
       "      <td>1.112515</td>\n",
       "    </tr>\n",
       "    <tr>\n",
       "      <th>4</th>\n",
       "      <td>1.337130</td>\n",
       "      <td>0.916542</td>\n",
       "      <td>-1.416803</td>\n",
       "      <td>-1.266310</td>\n",
       "      <td>1.168226</td>\n",
       "      <td>0.282907</td>\n",
       "      <td>-0.134423</td>\n",
       "      <td>-0.954377</td>\n",
       "      <td>1.238508</td>\n",
       "      <td>0.362297</td>\n",
       "      <td>0.0</td>\n",
       "      <td>-0.568234</td>\n",
       "      <td>-0.365088</td>\n",
       "    </tr>\n",
       "    <tr>\n",
       "      <th>...</th>\n",
       "      <td>...</td>\n",
       "      <td>...</td>\n",
       "      <td>...</td>\n",
       "      <td>...</td>\n",
       "      <td>...</td>\n",
       "      <td>...</td>\n",
       "      <td>...</td>\n",
       "      <td>...</td>\n",
       "      <td>...</td>\n",
       "      <td>...</td>\n",
       "      <td>...</td>\n",
       "      <td>...</td>\n",
       "      <td>...</td>\n",
       "    </tr>\n",
       "    <tr>\n",
       "      <th>10104</th>\n",
       "      <td>-2.403782</td>\n",
       "      <td>0.916542</td>\n",
       "      <td>-1.416803</td>\n",
       "      <td>-1.266310</td>\n",
       "      <td>-1.104831</td>\n",
       "      <td>1.141812</td>\n",
       "      <td>-0.134423</td>\n",
       "      <td>-0.954377</td>\n",
       "      <td>1.238508</td>\n",
       "      <td>0.362297</td>\n",
       "      <td>0.0</td>\n",
       "      <td>1.086866</td>\n",
       "      <td>1.261792</td>\n",
       "    </tr>\n",
       "    <tr>\n",
       "      <th>10105</th>\n",
       "      <td>-1.388596</td>\n",
       "      <td>0.916542</td>\n",
       "      <td>-1.416803</td>\n",
       "      <td>-1.266310</td>\n",
       "      <td>1.326316</td>\n",
       "      <td>-0.422933</td>\n",
       "      <td>-0.134423</td>\n",
       "      <td>-0.954377</td>\n",
       "      <td>1.238508</td>\n",
       "      <td>0.362297</td>\n",
       "      <td>0.0</td>\n",
       "      <td>1.236979</td>\n",
       "      <td>1.411295</td>\n",
       "    </tr>\n",
       "    <tr>\n",
       "      <th>10106</th>\n",
       "      <td>0.125970</td>\n",
       "      <td>-1.594354</td>\n",
       "      <td>0.687919</td>\n",
       "      <td>-1.266310</td>\n",
       "      <td>1.326316</td>\n",
       "      <td>-0.422933</td>\n",
       "      <td>-1.578734</td>\n",
       "      <td>0.405947</td>\n",
       "      <td>1.238508</td>\n",
       "      <td>0.362297</td>\n",
       "      <td>0.0</td>\n",
       "      <td>-0.755834</td>\n",
       "      <td>-0.365088</td>\n",
       "    </tr>\n",
       "    <tr>\n",
       "      <th>10107</th>\n",
       "      <td>1.877241</td>\n",
       "      <td>-1.594354</td>\n",
       "      <td>1.783572</td>\n",
       "      <td>-1.266310</td>\n",
       "      <td>-1.424142</td>\n",
       "      <td>-1.928332</td>\n",
       "      <td>-1.578734</td>\n",
       "      <td>0.405947</td>\n",
       "      <td>1.238508</td>\n",
       "      <td>0.362297</td>\n",
       "      <td>0.0</td>\n",
       "      <td>-0.208510</td>\n",
       "      <td>0.074850</td>\n",
       "    </tr>\n",
       "    <tr>\n",
       "      <th>10108</th>\n",
       "      <td>-1.388596</td>\n",
       "      <td>0.012007</td>\n",
       "      <td>-0.032151</td>\n",
       "      <td>1.716319</td>\n",
       "      <td>-0.844691</td>\n",
       "      <td>1.141812</td>\n",
       "      <td>0.809441</td>\n",
       "      <td>0.771936</td>\n",
       "      <td>-0.918221</td>\n",
       "      <td>-2.763228</td>\n",
       "      <td>0.0</td>\n",
       "      <td>-0.386000</td>\n",
       "      <td>0.814677</td>\n",
       "    </tr>\n",
       "  </tbody>\n",
       "</table>\n",
       "<p>10109 rows × 13 columns</p>\n",
       "</div>"
      ],
      "text/plain": [
       "        Airline    Source  Destination  Total_Stops       Day     Month  \\\n",
       "0     -0.576776 -1.594354     1.783572    -1.266310  1.168226 -0.841553   \n",
       "1      0.125970  0.012007    -0.032151     1.716319 -0.625276  1.141812   \n",
       "2     -0.576776  0.916542    -1.416803     0.441198 -0.844691  1.856118   \n",
       "3     -0.576776 -1.594354     1.783572     0.441198 -1.424142 -1.928332   \n",
       "4      1.337130  0.916542    -1.416803    -1.266310  1.168226  0.282907   \n",
       "...         ...       ...          ...          ...       ...       ...   \n",
       "10104 -2.403782  0.916542    -1.416803    -1.266310 -1.104831  1.141812   \n",
       "10105 -1.388596  0.916542    -1.416803    -1.266310  1.326316 -0.422933   \n",
       "10106  0.125970 -1.594354     0.687919    -1.266310  1.326316 -0.422933   \n",
       "10107  1.877241 -1.594354     1.783572    -1.266310 -1.424142 -1.928332   \n",
       "10108 -1.388596  0.012007    -0.032151     1.716319 -0.844691  1.141812   \n",
       "\n",
       "         Route1    Route2    Route3    Route4  Route5  Dep_time  Arrival_time  \n",
       "0     -1.578734  0.405947  1.238508  0.362297     0.0  1.531151     -1.793723  \n",
       "1      0.809441  2.204547 -0.918221 -2.763228     0.0 -0.568234     -1.374334  \n",
       "2     -0.134423  2.346616 -1.316966  0.362297     0.0  0.934563      1.411295  \n",
       "3     -1.578734  2.346616  0.003140  0.362297     0.0  0.622765      1.112515  \n",
       "4     -0.134423 -0.954377  1.238508  0.362297     0.0 -0.568234     -0.365088  \n",
       "...         ...       ...       ...       ...     ...       ...           ...  \n",
       "10104 -0.134423 -0.954377  1.238508  0.362297     0.0  1.086866      1.261792  \n",
       "10105 -0.134423 -0.954377  1.238508  0.362297     0.0  1.236979      1.411295  \n",
       "10106 -1.578734  0.405947  1.238508  0.362297     0.0 -0.755834     -0.365088  \n",
       "10107 -1.578734  0.405947  1.238508  0.362297     0.0 -0.208510      0.074850  \n",
       "10108  0.809441  0.771936 -0.918221 -2.763228     0.0 -0.386000      0.814677  \n",
       "\n",
       "[10109 rows x 13 columns]"
      ]
     },
     "execution_count": 189,
     "metadata": {},
     "output_type": "execute_result"
    }
   ],
   "source": [
    "x_sc = pd.DataFrame(x_s , columns = x_trans.columns)\n",
    "x_sc"
   ]
  },
  {
   "cell_type": "markdown",
   "metadata": {},
   "source": [
    "#### Correlation Heatmap"
   ]
  },
  {
   "cell_type": "code",
   "execution_count": 190,
   "metadata": {},
   "outputs": [
    {
     "data": {
      "text/html": [
       "<div>\n",
       "<style scoped>\n",
       "    .dataframe tbody tr th:only-of-type {\n",
       "        vertical-align: middle;\n",
       "    }\n",
       "\n",
       "    .dataframe tbody tr th {\n",
       "        vertical-align: top;\n",
       "    }\n",
       "\n",
       "    .dataframe thead th {\n",
       "        text-align: right;\n",
       "    }\n",
       "</style>\n",
       "<table border=\"1\" class=\"dataframe\">\n",
       "  <thead>\n",
       "    <tr style=\"text-align: right;\">\n",
       "      <th></th>\n",
       "      <th>Airline</th>\n",
       "      <th>Source</th>\n",
       "      <th>Destination</th>\n",
       "      <th>Total_Stops</th>\n",
       "      <th>Day</th>\n",
       "      <th>Month</th>\n",
       "      <th>Route1</th>\n",
       "      <th>Route2</th>\n",
       "      <th>Route3</th>\n",
       "      <th>Route4</th>\n",
       "      <th>Route5</th>\n",
       "      <th>Dep_time</th>\n",
       "      <th>Arrival_time</th>\n",
       "    </tr>\n",
       "  </thead>\n",
       "  <tbody>\n",
       "    <tr>\n",
       "      <th>Airline</th>\n",
       "      <td>1.000000</td>\n",
       "      <td>-0.009633</td>\n",
       "      <td>-0.015178</td>\n",
       "      <td>-0.059366</td>\n",
       "      <td>0.026978</td>\n",
       "      <td>-0.003990</td>\n",
       "      <td>0.021552</td>\n",
       "      <td>-0.048071</td>\n",
       "      <td>-0.021106</td>\n",
       "      <td>0.157120</td>\n",
       "      <td>NaN</td>\n",
       "      <td>-0.051847</td>\n",
       "      <td>-0.006617</td>\n",
       "    </tr>\n",
       "    <tr>\n",
       "      <th>Source</th>\n",
       "      <td>-0.009633</td>\n",
       "      <td>1.000000</td>\n",
       "      <td>-0.594599</td>\n",
       "      <td>0.157526</td>\n",
       "      <td>0.012875</td>\n",
       "      <td>0.038557</td>\n",
       "      <td>0.316115</td>\n",
       "      <td>-0.005141</td>\n",
       "      <td>-0.327396</td>\n",
       "      <td>0.013393</td>\n",
       "      <td>NaN</td>\n",
       "      <td>0.075062</td>\n",
       "      <td>0.034107</td>\n",
       "    </tr>\n",
       "    <tr>\n",
       "      <th>Destination</th>\n",
       "      <td>-0.015178</td>\n",
       "      <td>-0.594599</td>\n",
       "      <td>1.000000</td>\n",
       "      <td>-0.265146</td>\n",
       "      <td>-0.028069</td>\n",
       "      <td>-0.074201</td>\n",
       "      <td>-0.298397</td>\n",
       "      <td>0.194911</td>\n",
       "      <td>0.544283</td>\n",
       "      <td>-0.030636</td>\n",
       "      <td>NaN</td>\n",
       "      <td>-0.139087</td>\n",
       "      <td>-0.070873</td>\n",
       "    </tr>\n",
       "    <tr>\n",
       "      <th>Total_Stops</th>\n",
       "      <td>-0.059366</td>\n",
       "      <td>0.157526</td>\n",
       "      <td>-0.265146</td>\n",
       "      <td>1.000000</td>\n",
       "      <td>-0.015845</td>\n",
       "      <td>0.073574</td>\n",
       "      <td>0.475452</td>\n",
       "      <td>-0.031975</td>\n",
       "      <td>-0.833320</td>\n",
       "      <td>-0.621818</td>\n",
       "      <td>NaN</td>\n",
       "      <td>-0.026818</td>\n",
       "      <td>0.063771</td>\n",
       "    </tr>\n",
       "    <tr>\n",
       "      <th>Day</th>\n",
       "      <td>0.026978</td>\n",
       "      <td>0.012875</td>\n",
       "      <td>-0.028069</td>\n",
       "      <td>-0.015845</td>\n",
       "      <td>1.000000</td>\n",
       "      <td>-0.184351</td>\n",
       "      <td>0.089083</td>\n",
       "      <td>-0.024734</td>\n",
       "      <td>0.019833</td>\n",
       "      <td>-0.027396</td>\n",
       "      <td>NaN</td>\n",
       "      <td>0.002081</td>\n",
       "      <td>-0.002273</td>\n",
       "    </tr>\n",
       "    <tr>\n",
       "      <th>Month</th>\n",
       "      <td>-0.003990</td>\n",
       "      <td>0.038557</td>\n",
       "      <td>-0.074201</td>\n",
       "      <td>0.073574</td>\n",
       "      <td>-0.184351</td>\n",
       "      <td>1.000000</td>\n",
       "      <td>0.041785</td>\n",
       "      <td>-0.007532</td>\n",
       "      <td>-0.078824</td>\n",
       "      <td>-0.040557</td>\n",
       "      <td>NaN</td>\n",
       "      <td>0.024261</td>\n",
       "      <td>-0.001679</td>\n",
       "    </tr>\n",
       "    <tr>\n",
       "      <th>Route1</th>\n",
       "      <td>0.021552</td>\n",
       "      <td>0.316115</td>\n",
       "      <td>-0.298397</td>\n",
       "      <td>0.475452</td>\n",
       "      <td>0.089083</td>\n",
       "      <td>0.041785</td>\n",
       "      <td>1.000000</td>\n",
       "      <td>-0.184740</td>\n",
       "      <td>-0.404270</td>\n",
       "      <td>-0.236424</td>\n",
       "      <td>NaN</td>\n",
       "      <td>-0.048356</td>\n",
       "      <td>0.018176</td>\n",
       "    </tr>\n",
       "    <tr>\n",
       "      <th>Route2</th>\n",
       "      <td>-0.048071</td>\n",
       "      <td>-0.005141</td>\n",
       "      <td>0.194911</td>\n",
       "      <td>-0.031975</td>\n",
       "      <td>-0.024734</td>\n",
       "      <td>-0.007532</td>\n",
       "      <td>-0.184740</td>\n",
       "      <td>1.000000</td>\n",
       "      <td>0.077288</td>\n",
       "      <td>-0.121779</td>\n",
       "      <td>NaN</td>\n",
       "      <td>-0.124886</td>\n",
       "      <td>0.006177</td>\n",
       "    </tr>\n",
       "    <tr>\n",
       "      <th>Route3</th>\n",
       "      <td>-0.021106</td>\n",
       "      <td>-0.327396</td>\n",
       "      <td>0.544283</td>\n",
       "      <td>-0.833320</td>\n",
       "      <td>0.019833</td>\n",
       "      <td>-0.078824</td>\n",
       "      <td>-0.404270</td>\n",
       "      <td>0.077288</td>\n",
       "      <td>1.000000</td>\n",
       "      <td>0.254270</td>\n",
       "      <td>NaN</td>\n",
       "      <td>-0.041584</td>\n",
       "      <td>-0.103981</td>\n",
       "    </tr>\n",
       "    <tr>\n",
       "      <th>Route4</th>\n",
       "      <td>0.157120</td>\n",
       "      <td>0.013393</td>\n",
       "      <td>-0.030636</td>\n",
       "      <td>-0.621818</td>\n",
       "      <td>-0.027396</td>\n",
       "      <td>-0.040557</td>\n",
       "      <td>-0.236424</td>\n",
       "      <td>-0.121779</td>\n",
       "      <td>0.254270</td>\n",
       "      <td>1.000000</td>\n",
       "      <td>NaN</td>\n",
       "      <td>0.008713</td>\n",
       "      <td>0.037296</td>\n",
       "    </tr>\n",
       "    <tr>\n",
       "      <th>Route5</th>\n",
       "      <td>NaN</td>\n",
       "      <td>NaN</td>\n",
       "      <td>NaN</td>\n",
       "      <td>NaN</td>\n",
       "      <td>NaN</td>\n",
       "      <td>NaN</td>\n",
       "      <td>NaN</td>\n",
       "      <td>NaN</td>\n",
       "      <td>NaN</td>\n",
       "      <td>NaN</td>\n",
       "      <td>NaN</td>\n",
       "      <td>NaN</td>\n",
       "      <td>NaN</td>\n",
       "    </tr>\n",
       "    <tr>\n",
       "      <th>Dep_time</th>\n",
       "      <td>-0.051847</td>\n",
       "      <td>0.075062</td>\n",
       "      <td>-0.139087</td>\n",
       "      <td>-0.026818</td>\n",
       "      <td>0.002081</td>\n",
       "      <td>0.024261</td>\n",
       "      <td>-0.048356</td>\n",
       "      <td>-0.124886</td>\n",
       "      <td>-0.041584</td>\n",
       "      <td>0.008713</td>\n",
       "      <td>NaN</td>\n",
       "      <td>1.000000</td>\n",
       "      <td>0.033070</td>\n",
       "    </tr>\n",
       "    <tr>\n",
       "      <th>Arrival_time</th>\n",
       "      <td>-0.006617</td>\n",
       "      <td>0.034107</td>\n",
       "      <td>-0.070873</td>\n",
       "      <td>0.063771</td>\n",
       "      <td>-0.002273</td>\n",
       "      <td>-0.001679</td>\n",
       "      <td>0.018176</td>\n",
       "      <td>0.006177</td>\n",
       "      <td>-0.103981</td>\n",
       "      <td>0.037296</td>\n",
       "      <td>NaN</td>\n",
       "      <td>0.033070</td>\n",
       "      <td>1.000000</td>\n",
       "    </tr>\n",
       "  </tbody>\n",
       "</table>\n",
       "</div>"
      ],
      "text/plain": [
       "               Airline    Source  Destination  Total_Stops       Day  \\\n",
       "Airline       1.000000 -0.009633    -0.015178    -0.059366  0.026978   \n",
       "Source       -0.009633  1.000000    -0.594599     0.157526  0.012875   \n",
       "Destination  -0.015178 -0.594599     1.000000    -0.265146 -0.028069   \n",
       "Total_Stops  -0.059366  0.157526    -0.265146     1.000000 -0.015845   \n",
       "Day           0.026978  0.012875    -0.028069    -0.015845  1.000000   \n",
       "Month        -0.003990  0.038557    -0.074201     0.073574 -0.184351   \n",
       "Route1        0.021552  0.316115    -0.298397     0.475452  0.089083   \n",
       "Route2       -0.048071 -0.005141     0.194911    -0.031975 -0.024734   \n",
       "Route3       -0.021106 -0.327396     0.544283    -0.833320  0.019833   \n",
       "Route4        0.157120  0.013393    -0.030636    -0.621818 -0.027396   \n",
       "Route5             NaN       NaN          NaN          NaN       NaN   \n",
       "Dep_time     -0.051847  0.075062    -0.139087    -0.026818  0.002081   \n",
       "Arrival_time -0.006617  0.034107    -0.070873     0.063771 -0.002273   \n",
       "\n",
       "                 Month    Route1    Route2    Route3    Route4  Route5  \\\n",
       "Airline      -0.003990  0.021552 -0.048071 -0.021106  0.157120     NaN   \n",
       "Source        0.038557  0.316115 -0.005141 -0.327396  0.013393     NaN   \n",
       "Destination  -0.074201 -0.298397  0.194911  0.544283 -0.030636     NaN   \n",
       "Total_Stops   0.073574  0.475452 -0.031975 -0.833320 -0.621818     NaN   \n",
       "Day          -0.184351  0.089083 -0.024734  0.019833 -0.027396     NaN   \n",
       "Month         1.000000  0.041785 -0.007532 -0.078824 -0.040557     NaN   \n",
       "Route1        0.041785  1.000000 -0.184740 -0.404270 -0.236424     NaN   \n",
       "Route2       -0.007532 -0.184740  1.000000  0.077288 -0.121779     NaN   \n",
       "Route3       -0.078824 -0.404270  0.077288  1.000000  0.254270     NaN   \n",
       "Route4       -0.040557 -0.236424 -0.121779  0.254270  1.000000     NaN   \n",
       "Route5             NaN       NaN       NaN       NaN       NaN     NaN   \n",
       "Dep_time      0.024261 -0.048356 -0.124886 -0.041584  0.008713     NaN   \n",
       "Arrival_time -0.001679  0.018176  0.006177 -0.103981  0.037296     NaN   \n",
       "\n",
       "              Dep_time  Arrival_time  \n",
       "Airline      -0.051847     -0.006617  \n",
       "Source        0.075062      0.034107  \n",
       "Destination  -0.139087     -0.070873  \n",
       "Total_Stops  -0.026818      0.063771  \n",
       "Day           0.002081     -0.002273  \n",
       "Month         0.024261     -0.001679  \n",
       "Route1       -0.048356      0.018176  \n",
       "Route2       -0.124886      0.006177  \n",
       "Route3       -0.041584     -0.103981  \n",
       "Route4        0.008713      0.037296  \n",
       "Route5             NaN           NaN  \n",
       "Dep_time      1.000000      0.033070  \n",
       "Arrival_time  0.033070      1.000000  "
      ]
     },
     "execution_count": 190,
     "metadata": {},
     "output_type": "execute_result"
    }
   ],
   "source": [
    "x_sc.corr()"
   ]
  },
  {
   "cell_type": "code",
   "execution_count": 191,
   "metadata": {},
   "outputs": [
    {
     "data": {
      "text/plain": [
       "<AxesSubplot:>"
      ]
     },
     "execution_count": 191,
     "metadata": {},
     "output_type": "execute_result"
    },
    {
     "data": {
      "image/png": "[encoded data removed]",
      "text/plain": [
       "<Figure size 1152x648 with 2 Axes>"
      ]
     },
     "metadata": {
      "needs_background": "light"
     },
     "output_type": "display_data"
    }
   ],
   "source": [
    "plt.figure(figsize=(16,9))\n",
    "sns.heatmap(x_sc.corr() ,annot = True , cmap = 'crest'  , fmt = '.2%')"
   ]
  },
  {
   "cell_type": "markdown",
   "metadata": {},
   "source": [
    "From above we can observe that there is not much correlation in between our predictor variable , so we didn't require PCA here."
   ]
  },
  {
   "cell_type": "markdown",
   "metadata": {},
   "source": [
    "## Machine Learning models"
   ]
  },
  {
   "cell_type": "markdown",
   "metadata": {},
   "source": [
    "### Finding Best Random State"
   ]
  },
  {
   "cell_type": "code",
   "execution_count": 192,
   "metadata": {},
   "outputs": [
    {
     "name": "stdout",
     "output_type": "stream",
     "text": [
      "Best Score = 57.53258848966198 For Random state = 1036\n"
     ]
    }
   ],
   "source": [
    "best_score=0\n",
    "for i in range(2200):\n",
    "    from sklearn.model_selection import train_test_split\n",
    "    X_train, X_test, y_train, y_test = train_test_split(x_sc, y, train_size = 0.7 , test_size = 0.3, random_state = i)\n",
    "    lr = LinearRegression()\n",
    "    lr.fit(X_train,y_train)\n",
    "    y_predicted = lr.predict(X_test)\n",
    "    b_score= r2_score(y_test ,y_predicted )\n",
    "    if b_score>best_score:\n",
    "        best_score=b_score\n",
    "        randomState=i\n",
    "    \n",
    "print('Best Score = {} For Random state = {}'.format(best_score*100,randomState))"
   ]
  },
  {
   "cell_type": "code",
   "execution_count": 193,
   "metadata": {},
   "outputs": [
    {
     "name": "stdout",
     "output_type": "stream",
     "text": [
      "\n",
      "Model:  LinearRegression()\n",
      "\n",
      "-->Score: 0.5753258848966198\n",
      "Cross validation score:  0.5451418108150304\n",
      "Difference between accuracy and cross validation score:  -0.01092687891731503\n",
      "Mean Absolute Error:  2120.3610188808834\n",
      "R2 Score 0.5753258848966198\n",
      "\n",
      "Model:  RandomForestRegressor()\n",
      "\n",
      "-->Score: 0.8001494703248306\n",
      "Cross validation score:  0.7923289549805037\n",
      "Difference between accuracy and cross validation score:  0.14830533327789053\n",
      "Mean Absolute Error:  1193.2491237712998\n",
      "R2 Score 0.8001494703248306\n",
      "\n",
      "Model:  SVR()\n",
      "\n",
      "-->Score: 0.06456449285801436\n",
      "Cross validation score:  0.07307915216808678\n",
      "Difference between accuracy and cross validation score:  -0.009296787881874574\n",
      "Mean Absolute Error:  3285.4016925918595\n",
      "R2 Score 0.06456449285801436\n",
      "\n",
      "Model:  DecisionTreeRegressor()\n",
      "\n",
      "-->Score: 0.7025107647942528\n",
      "Cross validation score:  0.7007191363417866\n",
      "Difference between accuracy and cross validation score:  0.2523544872304848\n",
      "Mean Absolute Error:  1358.6037971205626\n",
      "R2 Score 0.7025107647942528\n",
      "\n",
      "Model:  KNeighborsRegressor()\n",
      "\n",
      "-->Score: 0.7525662586935359\n",
      "Cross validation score:  0.7547851640092564\n",
      "Difference between accuracy and cross validation score:  0.0828742947566028\n",
      "Mean Absolute Error:  1431.440092317837\n",
      "R2 Score 0.7525662586935359\n",
      "\n",
      "Model:  GradientBoostingRegressor()\n",
      "\n",
      "-->Score: 0.8043158392321822\n",
      "Cross validation score:  0.7921912633038242\n",
      "Difference between accuracy and cross validation score:  0.010055340714280936\n",
      "Mean Absolute Error:  1371.3025754706262\n",
      "R2 Score 0.8043158392321822\n",
      "\n",
      "Model:  ExtraTreesRegressor()\n",
      "\n",
      "-->Score: 0.7450095268560388\n",
      "Cross validation score:  0.7372575615188601\n",
      "Difference between accuracy and cross validation score:  0.21580540153845862\n",
      "Mean Absolute Error:  1297.363585833608\n",
      "R2 Score 0.7450095268560388\n",
      "\n",
      "Model:  AdaBoostRegressor()\n",
      "\n",
      "-->Score: 0.6222712104250849\n",
      "Cross validation score:  0.6061047658126959\n",
      "Difference between accuracy and cross validation score:  -0.002520866816210221\n",
      "Mean Absolute Error:  2089.2051000648403\n",
      "R2 Score 0.6222712104250849\n",
      "\n",
      "Model:  Lasso()\n",
      "\n",
      "-->Score: 0.5753382258940725\n",
      "Cross validation score:  0.5451416584667623\n",
      "Difference between accuracy and cross validation score:  -0.010927817776857918\n",
      "Mean Absolute Error:  2120.210326132607\n",
      "R2 Score 0.5753382258940725\n",
      "\n",
      "Model:  Ridge()\n",
      "\n",
      "-->Score: 0.5753271457308715\n",
      "Cross validation score:  0.54514249692291\n",
      "Difference between accuracy and cross validation score:  -0.010927617268726708\n",
      "Mean Absolute Error:  2120.351315725183\n",
      "R2 Score 0.5753271457308715\n",
      "\n",
      "Model:  ElasticNet()\n",
      "\n",
      "-->Score: 0.5311789299940521\n",
      "Cross validation score:  0.5041773967770332\n",
      "Difference between accuracy and cross validation score:  -0.012514240557056078\n",
      "Mean Absolute Error:  2260.025830165169\n",
      "R2 Score 0.5311789299940521\n"
     ]
    }
   ],
   "source": [
    "X_train, X_test, y_train, y_test = train_test_split(x_sc , y, train_size=0.7, test_size=0.3, random_state= 1036)\n",
    "\n",
    "model_reg = [LinearRegression,RandomForestRegressor, SVR, DecisionTreeRegressor,KNeighborsRegressor, GradientBoostingRegressor,\n",
    "             ExtraTreesRegressor ,AdaBoostRegressor , Lasso , Ridge , ElasticNet ]\n",
    "\n",
    "\n",
    "for model in model_reg:\n",
    "    m = model()\n",
    "    print('\\n''Model: ',m)\n",
    "    m.fit(X_train, y_train)\n",
    "    scr=m.score(X_train,y_train)\n",
    "    score = (m.score(X_test , y_test))\n",
    "    print('\\n''-->''Score:',score)\n",
    "    scr_cross=cross_val_score(m,x_sc,y,cv=5)\n",
    "    scr_mean=scr_cross.mean()\n",
    "    print('Cross validation score: ',scr_mean)\n",
    "    print('Difference between accuracy and cross validation score: ', scr-scr_mean)\n",
    "    y_predicted = m.predict(X_test)\n",
    "    print('Mean Absolute Error: ',mean_absolute_error(y_test, y_predicted))\n",
    "    print('R2 Score' , r2_score(y_test , y_predicted))"
   ]
  },
  {
   "cell_type": "markdown",
   "metadata": {},
   "source": [
    "From above we can observe that Random Forest Regressor and Gradient Boosting Regressor is giving us the best dcores so we will use these two algorithms only for our future predictions."
   ]
  },
  {
   "cell_type": "markdown",
   "metadata": {},
   "source": [
    "### Random Forest Regressor"
   ]
  },
  {
   "cell_type": "code",
   "execution_count": 194,
   "metadata": {},
   "outputs": [
    {
     "name": "stdout",
     "output_type": "stream",
     "text": [
      "Best Score = 81.01524264118716 For Random state = 30\n"
     ]
    }
   ],
   "source": [
    "best_score=0\n",
    "for i in range(200):\n",
    "    \n",
    "    X_train, X_test, y_train, y_test = train_test_split(x_sc, y, train_size = 0.7 , test_size = 0.3, random_state = i)\n",
    "    \n",
    "    rf = RandomForestRegressor()\n",
    "    rf.fit(X_train,y_train)\n",
    "    pred_rf = rf.predict(X_test)\n",
    "    b_score= r2_score(y_test ,pred_rf )\n",
    "    if b_score>best_score:\n",
    "        best_score=b_score\n",
    "        randomState=i\n",
    "    \n",
    "print('Best Score = {} For Random state = {}'.format(best_score*100,randomState))"
   ]
  },
  {
   "cell_type": "code",
   "execution_count": 195,
   "metadata": {},
   "outputs": [
    {
     "name": "stdout",
     "output_type": "stream",
     "text": [
      "The R2 score=80.99568387777774\n",
      "The MSE =3192927.5832435684\n",
      "The MAE =1156.4557713213903\n",
      "The RMSE =1786.8764879654018\n"
     ]
    }
   ],
   "source": [
    "X_train, X_test, y_train, y_test = train_test_split(x_sc, y, test_size = 0.3, random_state = 30)\n",
    "\n",
    "rf = RandomForestRegressor()\n",
    "rf.fit(X_train,y_train)\n",
    "rf_pred=rf.predict(X_test)\n",
    "print('The R2 score={}'.format(r2_score(y_test, rf_pred)*100))\n",
    "print('The MSE ={}'.format(mean_squared_error(y_test, rf_pred)))\n",
    "print('The MAE ={}'.format(mean_absolute_error(y_test, rf_pred)))\n",
    "print('The RMSE ={}'.format(np.sqrt(mean_squared_error(y_test, rf_pred))))"
   ]
  },
  {
   "cell_type": "code",
   "execution_count": 196,
   "metadata": {},
   "outputs": [
    {
     "name": "stdout",
     "output_type": "stream",
     "text": [
      "Fitting 3 folds for each of 8 candidates, totalling 24 fits\n"
     ]
    },
    {
     "name": "stderr",
     "output_type": "stream",
     "text": [
      "[Parallel(n_jobs=-1)]: Using backend LokyBackend with 4 concurrent workers.\n",
      "[Parallel(n_jobs=-1)]: Done  24 out of  24 | elapsed:   33.9s finished\n"
     ]
    },
    {
     "data": {
      "text/plain": [
       "{'criterion': 'mse', 'max_depth': 10, 'n_estimators': 200}"
      ]
     },
     "execution_count": 196,
     "metadata": {},
     "output_type": "execute_result"
    }
   ],
   "source": [
    "# RandomForest Regressor Hyperparameter Tuning\n",
    "\n",
    "rf = RandomForestRegressor()\n",
    "\n",
    "rfr_params = {\"n_estimators\":[100,200],\n",
    "              \"criterion\":['mse'],\n",
    "              \"max_depth\":[6,8,10,20],\n",
    "             }\n",
    "gsRF = GridSearchCV(rf,param_grid = rfr_params, cv=3, scoring=\"r2\", n_jobs= -1, verbose = 1)\n",
    "\n",
    "gsRF.fit(X_train,y_train)\n",
    "\n",
    "RF_best = gsRF.best_estimator_\n",
    "\n",
    "gsRF.best_params_"
   ]
  },
  {
   "cell_type": "code",
   "execution_count": 197,
   "metadata": {},
   "outputs": [],
   "source": [
    "param_grid = {  'bootstrap': [True], 'max_depth': [10], 'max_features': ['auto', 'log2'], \n",
    "              'n_estimators': [100]}\n",
    "\n",
    "rfr = RandomForestRegressor(random_state = 30)\n",
    "\n",
    "g_search = GridSearchCV(estimator = rfr, param_grid = param_grid, cv = 3, n_jobs = 1, verbose = 0, return_train_score=True)\n",
    "\n",
    "g_search.fit(X_train, y_train)\n",
    "g_search_pred = g_search.predict(X_test)"
   ]
  },
  {
   "cell_type": "code",
   "execution_count": 198,
   "metadata": {},
   "outputs": [
    {
     "name": "stdout",
     "output_type": "stream",
     "text": [
      "0.8505910084843779\n"
     ]
    }
   ],
   "source": [
    "print(g_search.score(X_test, y_test))"
   ]
  },
  {
   "cell_type": "code",
   "execution_count": 199,
   "metadata": {},
   "outputs": [
    {
     "data": {
      "text/plain": [
       "<AxesSubplot:xlabel='Price'>"
      ]
     },
     "execution_count": 199,
     "metadata": {},
     "output_type": "execute_result"
    },
    {
     "data": {
      "image/png": "[encoded data removed]",
      "text/plain": [
       "<Figure size 432x288 with 1 Axes>"
      ]
     },
     "metadata": {
      "needs_background": "light"
     },
     "output_type": "display_data"
    }
   ],
   "source": [
    "sns.regplot(y_test, g_search_pred , scatter = True , label = True , color = 'lightseagreen')"
   ]
  },
  {
   "cell_type": "markdown",
   "metadata": {},
   "source": [
    "### Gradient Boosting Rgressor"
   ]
  },
  {
   "cell_type": "code",
   "execution_count": 200,
   "metadata": {},
   "outputs": [
    {
     "name": "stdout",
     "output_type": "stream",
     "text": [
      "Best Score = 80.79347028929432 For Random state = 30\n"
     ]
    }
   ],
   "source": [
    "best_score=0\n",
    "for i in range(200):\n",
    "    from sklearn.model_selection import train_test_split\n",
    "    \n",
    "    X_train, X_test, y_train, y_test = train_test_split(x_sc, y, train_size = 0.7 , test_size = 0.3, random_state = i)\n",
    "    \n",
    "    gbr = GradientBoostingRegressor()\n",
    "    gbr.fit(X_train,y_train)\n",
    "    gbr_pred = gbr.predict(X_test)\n",
    "    b_score= r2_score(y_test ,gbr_pred )\n",
    "    if b_score>best_score:\n",
    "        best_score=b_score\n",
    "        randomState=i\n",
    "    \n",
    "print('Best Score = {} For Random state = {}'.format(best_score*100,randomState))"
   ]
  },
  {
   "cell_type": "code",
   "execution_count": 201,
   "metadata": {},
   "outputs": [
    {
     "name": "stdout",
     "output_type": "stream",
     "text": [
      "The R2 score=81.17383284490323\n",
      "The MSE =3065692.644795894\n",
      "The MAE =1319.3179459430035\n",
      "The RMSE =1750.9119466140764\n"
     ]
    }
   ],
   "source": [
    "X_train, X_test, y_train, y_test = train_test_split(x_sc, y, test_size = 0.2, random_state = 30)\n",
    "\n",
    "gbr = GradientBoostingRegressor()\n",
    "gbr.fit(X_train , y_train)\n",
    "gbr_pred = gbr.predict(X_test)\n",
    "print('The R2 score={}'.format(r2_score(y_test, gbr_pred)*100))\n",
    "print('The MSE ={}'.format(mean_squared_error(y_test, gbr_pred)))\n",
    "print('The MAE ={}'.format(mean_absolute_error(y_test, gbr_pred)))\n",
    "print('The RMSE ={}'.format(np.sqrt(mean_squared_error(y_test, gbr_pred))))"
   ]
  },
  {
   "cell_type": "code",
   "execution_count": 202,
   "metadata": {},
   "outputs": [
    {
     "data": {
      "text/plain": [
       "<AxesSubplot:xlabel='Price'>"
      ]
     },
     "execution_count": 202,
     "metadata": {},
     "output_type": "execute_result"
    },
    {
     "data": {
      "image/png": "[encoded data removed]",
      "text/plain": [
       "<Figure size 432x288 with 1 Axes>"
      ]
     },
     "metadata": {
      "needs_background": "light"
     },
     "output_type": "display_data"
    }
   ],
   "source": [
    "sns.regplot(y_test, gbr_pred , scatter = True , label = True , color = 'lightseagreen')"
   ]
  },
  {
   "cell_type": "code",
   "execution_count": null,
   "metadata": {},
   "outputs": [],
   "source": []
  },
  {
   "cell_type": "code",
   "execution_count": null,
   "metadata": {},
   "outputs": [],
   "source": []
  },
  {
   "cell_type": "code",
   "execution_count": null,
   "metadata": {},
   "outputs": [],
   "source": []
  },
  {
   "cell_type": "code",
   "execution_count": null,
   "metadata": {},
   "outputs": [],
   "source": []
  },
  {
   "cell_type": "code",
   "execution_count": null,
   "metadata": {},
   "outputs": [],
   "source": []
  },
  {
   "cell_type": "code",
   "execution_count": null,
   "metadata": {},
   "outputs": [],
   "source": []
  },
  {
   "cell_type": "code",
   "execution_count": null,
   "metadata": {},
   "outputs": [],
   "source": []
  },
  {
   "cell_type": "code",
   "execution_count": null,
   "metadata": {},
   "outputs": [],
   "source": []
  },
  {
   "cell_type": "code",
   "execution_count": null,
   "metadata": {},
   "outputs": [],
   "source": []
  },
  {
   "cell_type": "code",
   "execution_count": null,
   "metadata": {},
   "outputs": [],
   "source": []
  },
  {
   "cell_type": "code",
   "execution_count": null,
   "metadata": {},
   "outputs": [],
   "source": []
  },
  {
   "cell_type": "code",
   "execution_count": null,
   "metadata": {},
   "outputs": [],
   "source": []
  },
  {
   "cell_type": "code",
   "execution_count": null,
   "metadata": {},
   "outputs": [],
   "source": []
  },
  {
   "cell_type": "code",
   "execution_count": null,
   "metadata": {},
   "outputs": [],
   "source": []
  },
  {
   "cell_type": "code",
   "execution_count": null,
   "metadata": {},
   "outputs": [],
   "source": []
  },
  {
   "cell_type": "code",
   "execution_count": null,
   "metadata": {},
   "outputs": [],
   "source": []
  },
  {
   "cell_type": "code",
   "execution_count": null,
   "metadata": {},
   "outputs": [],
   "source": []
  },
  {
   "cell_type": "code",
   "execution_count": null,
   "metadata": {},
   "outputs": [],
   "source": []
  },
  {
   "cell_type": "code",
   "execution_count": null,
   "metadata": {},
   "outputs": [],
   "source": []
  },
  {
   "cell_type": "code",
   "execution_count": null,
   "metadata": {},
   "outputs": [],
   "source": []
  },
  {
   "cell_type": "code",
   "execution_count": null,
   "metadata": {},
   "outputs": [],
   "source": []
  },
  {
   "cell_type": "code",
   "execution_count": null,
   "metadata": {},
   "outputs": [],
   "source": []
  },
  {
   "cell_type": "code",
   "execution_count": null,
   "metadata": {},
   "outputs": [],
   "source": []
  },
  {
   "cell_type": "code",
   "execution_count": null,
   "metadata": {},
   "outputs": [],
   "source": []
  },
  {
   "cell_type": "code",
   "execution_count": null,
   "metadata": {},
   "outputs": [],
   "source": []
  },
  {
   "cell_type": "code",
   "execution_count": null,
   "metadata": {},
   "outputs": [],
   "source": []
  },
  {
   "cell_type": "code",
   "execution_count": null,
   "metadata": {},
   "outputs": [],
   "source": []
  },
  {
   "cell_type": "code",
   "execution_count": null,
   "metadata": {},
   "outputs": [],
   "source": []
  },
  {
   "cell_type": "code",
   "execution_count": null,
   "metadata": {},
   "outputs": [],
   "source": []
  },
  {
   "cell_type": "code",
   "execution_count": null,
   "metadata": {},
   "outputs": [],
   "source": []
  },
  {
   "cell_type": "code",
   "execution_count": null,
   "metadata": {},
   "outputs": [],
   "source": []
  },
  {
   "cell_type": "code",
   "execution_count": null,
   "metadata": {},
   "outputs": [],
   "source": []
  },
  {
   "cell_type": "code",
   "execution_count": null,
   "metadata": {},
   "outputs": [],
   "source": [
    "\n",
    "\n",
    "\n",
    "\n",
    "\n",
    "\n",
    "\n",
    "\n",
    "\n"
   ]
  }
 ],
 "metadata": {
  "kernelspec": {
   "display_name": "Python 3",
   "language": "python",
   "name": "python3"
  },
  "language_info": {
   "codemirror_mode": {
    "name": "ipython",
    "version": 3
   },
   "file_extension": ".py",
   "mimetype": "text/x-python",
   "name": "python",
   "nbconvert_exporter": "python",
   "pygments_lexer": "ipython3",
   "version": "3.8.5"
  }
 },
 "nbformat": 4,
 "nbformat_minor": 4
}
